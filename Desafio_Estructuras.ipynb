{
 "cells": [
  {
   "cell_type": "markdown",
   "id": "d011cf5d",
   "metadata": {},
   "source": [
    " 1. Escribe un programa que pida a la persona usuaria que proporcione dos números y muestre el número más grande."
   ]
  },
  {
   "cell_type": "code",
   "execution_count": 5,
   "id": "9a1d403f",
   "metadata": {},
   "outputs": [
    {
     "name": "stdout",
     "output_type": "stream",
     "text": [
      "El numero mayor es el segundo 7.0 > 5.0\n"
     ]
    }
   ],
   "source": [
    "numero1 = float(input(\"Elige un numero\"));\n",
    "numero2 = float(input(\"Elige un segundo numero\"));\n",
    "\n",
    "if numero1 > numero2:\n",
    "    print(\"El numero mayor es el primero\", numero1, \">\", numero2)\n",
    "else:\n",
    "    print(\"El numero mayor es el segundo\", numero2, \">\", numero1)\n"
   ]
  },
  {
   "cell_type": "markdown",
   "id": "f7fe2230",
   "metadata": {},
   "source": [
    " 2. Escribe un programa que solicite el porcentaje de crecimiento de producción de una empresa e informe si hubo un crecimiento (porcentaje positivo) o una disminución (porcentaje negativo)."
   ]
  },
  {
   "cell_type": "code",
   "execution_count": 7,
   "id": "4cf62115",
   "metadata": {},
   "outputs": [
    {
     "name": "stdout",
     "output_type": "stream",
     "text": [
      "Hubo una diminución del -12.0 %\n"
     ]
    }
   ],
   "source": [
    "crecimiento = float(input(\"¿Cúal fue el porcentaje de crecimiento de la empresa en este año?\"))\n",
    "if crecimiento >= 0:\n",
    "    print(\"Hubo un crecimiento del\", crecimiento, \"%\")\n",
    "else:\n",
    "    print(\"Hubo una diminución del\", crecimiento, \"%\")"
   ]
  },
  {
   "cell_type": "markdown",
   "id": "c44dde73",
   "metadata": {},
   "source": [
    "3. Escribe un programa que determine si una letra proporcionada por la persona usuaria es una vocal o una consonante."
   ]
  },
  {
   "cell_type": "code",
   "execution_count": null,
   "id": "cdfa9456",
   "metadata": {},
   "outputs": [
    {
     "name": "stdout",
     "output_type": "stream",
     "text": [
      "La letra es una consonante.\n"
     ]
    }
   ],
   "source": [
    "# Recolectamos la letra del usuario en minúsculas\n",
    "letra = input('Ingrese una letra: ').lower()\n",
    "vocales = 'aeiou' # cadena que contiene todas las vocales\n",
    "# Verificamos si la letra está en las vocales con `in`\n",
    "if letra in vocales:\n",
    "    print('La letra es una vocal.')\n",
    "else:\n",
    "    print('La letra es una consonante.')"
   ]
  },
  {
   "cell_type": "markdown",
   "id": "f7eb3b9b",
   "metadata": {},
   "source": [
    "4. Escribe un programa que lea valores promedio de precios de un modelo de automóvil durante 3 años consecutivos y muestre el valor más alto y más bajo entre esos tres años."
   ]
  },
  {
   "cell_type": "code",
   "execution_count": 24,
   "id": "3530b8ac",
   "metadata": {},
   "outputs": [
    {
     "name": "stdout",
     "output_type": "stream",
     "text": [
      "El precio más alto fue de R$ 600.0.\n",
      "El precio más bajo fue de R$ 50.0.\n"
     ]
    }
   ],
   "source": [
    "precio_ano1 = float(input('Ingrese el precio promedio del automóvil en el primer año: '))\n",
    "precio_ano2 = float(input('Ingrese el precio promedio del automóvil en el segundo año: '))\n",
    "precio_ano3 = float(input('Ingrese el precio promedio del automóvil en el tercer año: '))\n",
    "\n",
    "# Determinamos el valor más alto mediante comparaciones\n",
    "mayor = precio_ano1\n",
    "if precio_ano2 > mayor:\n",
    "  mayor = precio_ano2\n",
    "if precio_ano3 > mayor:\n",
    "  mayor = precio_ano3\n",
    "# Determinamos el valor más bajo mediante comparaciones\n",
    "menor = precio_ano1\n",
    "if precio_ano2 < menor:\n",
    "  menor = precio_ano2\n",
    "if precio_ano3 < menor:\n",
    "  menor = precio_ano3\n",
    "# Mostramos los resultados\n",
    "print(f'El precio más alto fue de R$ {mayor}.')\n",
    "print(f'El precio más bajo fue de R$ {menor}.')"
   ]
  },
  {
   "cell_type": "markdown",
   "id": "a5b1d8e4",
   "metadata": {},
   "source": [
    "5.  Escribe un programa que pregunte sobre el precio de tres productos e indique cuál es el producto más barato para comprar."
   ]
  },
  {
   "cell_type": "code",
   "execution_count": 28,
   "id": "dda8129d",
   "metadata": {},
   "outputs": [
    {
     "name": "stdout",
     "output_type": "stream",
     "text": [
      "El producto mas barato es el primer producto, $ 10.0\n"
     ]
    }
   ],
   "source": [
    "producto1 = float(input('Ingrese el precio del primer producto: '))\n",
    "producto2 = float(input('Ingrese el precio del segundo producto: '))\n",
    "producto3 = float(input('Ingrese el precio del tercer producto: '))\n",
    "\n",
    "barato = producto1\n",
    "if producto2 < barato:\n",
    "    print(\"El producto mas barato es el segundo producto, $\", producto2)\n",
    "elif producto3 < barato: \n",
    "    print(\"El producto mas barato es el tercer producto, $\", producto3)\n",
    "else:\n",
    "    print(\"El producto mas barato es el primer producto, $\", producto1)"
   ]
  },
  {
   "cell_type": "markdown",
   "id": "4e176871",
   "metadata": {},
   "source": [
    "6. Escribe un programa que lea tres números y los muestre en orden descendente."
   ]
  },
  {
   "cell_type": "code",
   "execution_count": 29,
   "id": "0e30f105",
   "metadata": {},
   "outputs": [
    {
     "name": "stdout",
     "output_type": "stream",
     "text": [
      "6\n",
      "5\n",
      "5\n"
     ]
    }
   ],
   "source": [
    "num1 = int(input('Ingrese el primer número: '))\n",
    "num2 = int(input('Ingrese el segundo número: '))\n",
    "num3 = int(input('Ingrese el tercer número: '))\n",
    "\n",
    "if (num1 >= num2) and (num1 >= num3):\n",
    "    print(num1)\n",
    "    if num2 >= num3:\n",
    "        print(num2)\n",
    "        print(num3)\n",
    "    else:\n",
    "        print(num3)\n",
    "        print(num2)\n",
    "elif (num2 >= num1) and (num2 >= num3):\n",
    "    print(num2)\n",
    "    if num1 >= num3:\n",
    "        print(num1)\n",
    "        print(num3)\n",
    "    else:\n",
    "        print(num3)\n",
    "        print(num1)\n",
    "else:\n",
    "    print(num3)\n",
    "    if num1 >= num2:\n",
    "        print(num1)\n",
    "        print(num2)\n",
    "    else:\n",
    "        print(num2)\n",
    "        print(num1)"
   ]
  },
  {
   "cell_type": "markdown",
   "id": "deb38a0b",
   "metadata": {},
   "source": [
    "7. Escribe un programa que pregunte en qué turno estudia la persona usuaria (\"mañana\", \"tarde\" o \"noche\") y muestre el mensaje \"¡Buenos Días!\", \"¡Buenas Tardes!\", \"¡Buenas Noches!\" o \"Valor Inválido!\", según el caso."
   ]
  },
  {
   "cell_type": "code",
   "execution_count": 31,
   "id": "36c76041",
   "metadata": {},
   "outputs": [
    {
     "name": "stdout",
     "output_type": "stream",
     "text": [
      "¡Buenos tardes!\n"
     ]
    }
   ],
   "source": [
    "turno = input(\"¿En que turno estudias?\").lower()\n",
    "\n",
    "if turno == \"mañana\":\n",
    "    print(\"¡Buenos días!\")\n",
    "elif turno == \"tarde\":\n",
    "    print(\"¡Buenos tardes!\")\n",
    "elif turno == \"noche\":\n",
    "    print(\"¡Buenos noches!\")\n",
    "else:\n",
    "    print(\"Valor invalido!\")\n"
   ]
  },
  {
   "cell_type": "markdown",
   "id": "d4f98891",
   "metadata": {},
   "source": [
    "8. Escribe un programa que solicite un número entero a la persona usuaria y determine si es par o impar. Pista: Puedes usar el operador módulo (%)."
   ]
  },
  {
   "cell_type": "code",
   "execution_count": 33,
   "id": "1e36b257",
   "metadata": {},
   "outputs": [
    {
     "name": "stdout",
     "output_type": "stream",
     "text": [
      "Par\n"
     ]
    }
   ],
   "source": [
    "entero = int(input(\"Ingresa un numero entero\"));\n",
    "\n",
    "if entero % 2 == 0:\n",
    "    print(\"Par\")\n",
    "else:\n",
    "    print(\"Impar\")"
   ]
  },
  {
   "cell_type": "markdown",
   "id": "5ba65960",
   "metadata": {},
   "source": [
    "9. Escribe un programa que pida un número a la persona usuaria y le informe si es entero o decimal."
   ]
  },
  {
   "cell_type": "code",
   "execution_count": 34,
   "id": "bce8ae73",
   "metadata": {},
   "outputs": [
    {
     "name": "stdout",
     "output_type": "stream",
     "text": [
      "El número es decimal.\n"
     ]
    }
   ],
   "source": [
    "# Recolectamos los datos\n",
    "num = float(input('Ingresa un número: '))\n",
    "# Verificamos si el número es entero o decimal según el resultado del módulo\n",
    "if num % 1 == 0:\n",
    "    print('El número es entero.')\n",
    "else:\n",
    "    print('El número es decimal.')"
   ]
  }
 ],
 "metadata": {
  "kernelspec": {
   "display_name": "base",
   "language": "python",
   "name": "python3"
  },
  "language_info": {
   "codemirror_mode": {
    "name": "ipython",
    "version": 3
   },
   "file_extension": ".py",
   "mimetype": "text/x-python",
   "name": "python",
   "nbconvert_exporter": "python",
   "pygments_lexer": "ipython3",
   "version": "3.12.4"
  }
 },
 "nbformat": 4,
 "nbformat_minor": 5
}
