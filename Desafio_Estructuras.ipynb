{
 "cells": [
  {
   "cell_type": "markdown",
   "id": "d011cf5d",
   "metadata": {},
   "source": [
    " 1. Escribe un programa que pida a la persona usuaria que proporcione dos números y muestre el número más grande."
   ]
  },
  {
   "cell_type": "code",
   "execution_count": 5,
   "id": "9a1d403f",
   "metadata": {},
   "outputs": [
    {
     "name": "stdout",
     "output_type": "stream",
     "text": [
      "El numero mayor es el segundo 7.0 > 5.0\n"
     ]
    }
   ],
   "source": [
    "numero1 = float(input(\"Elige un numero\"));\n",
    "numero2 = float(input(\"Elige un segundo numero\"));\n",
    "\n",
    "if numero1 > numero2:\n",
    "    print(\"El numero mayor es el primero\", numero1, \">\", numero2)\n",
    "else:\n",
    "    print(\"El numero mayor es el segundo\", numero2, \">\", numero1)\n"
   ]
  },
  {
   "cell_type": "markdown",
   "id": "f7fe2230",
   "metadata": {},
   "source": [
    " 2. Escribe un programa que solicite el porcentaje de crecimiento de producción de una empresa e informe si hubo un crecimiento (porcentaje positivo) o una disminución (porcentaje negativo)."
   ]
  },
  {
   "cell_type": "code",
   "execution_count": 7,
   "id": "4cf62115",
   "metadata": {},
   "outputs": [
    {
     "name": "stdout",
     "output_type": "stream",
     "text": [
      "Hubo una diminución del -12.0 %\n"
     ]
    }
   ],
   "source": [
    "crecimiento = float(input(\"¿Cúal fue el porcentaje de crecimiento de la empresa en este año?\"))\n",
    "if crecimiento >= 0:\n",
    "    print(\"Hubo un crecimiento del\", crecimiento, \"%\")\n",
    "else:\n",
    "    print(\"Hubo una diminución del\", crecimiento, \"%\")"
   ]
  },
  {
   "cell_type": "markdown",
   "id": "c44dde73",
   "metadata": {},
   "source": [
    "3. Escribe un programa que determine si una letra proporcionada por la persona usuaria es una vocal o una consonante."
   ]
  },
  {
   "cell_type": "code",
   "execution_count": null,
   "id": "cdfa9456",
   "metadata": {},
   "outputs": [
    {
     "name": "stdout",
     "output_type": "stream",
     "text": [
      "La letra es una consonante.\n"
     ]
    }
   ],
   "source": [
    "# Recolectamos la letra del usuario en minúsculas\n",
    "letra = input('Ingrese una letra: ').lower()\n",
    "vocales = 'aeiou' # cadena que contiene todas las vocales\n",
    "# Verificamos si la letra está en las vocales con `in`\n",
    "if letra in vocales:\n",
    "    print('La letra es una vocal.')\n",
    "else:\n",
    "    print('La letra es una consonante.')"
   ]
  },
  {
   "cell_type": "markdown",
   "id": "f7eb3b9b",
   "metadata": {},
   "source": [
    "4. Escribe un programa que lea valores promedio de precios de un modelo de automóvil durante 3 años consecutivos y muestre el valor más alto y más bajo entre esos tres años."
   ]
  },
  {
   "cell_type": "code",
   "execution_count": 24,
   "id": "3530b8ac",
   "metadata": {},
   "outputs": [
    {
     "name": "stdout",
     "output_type": "stream",
     "text": [
      "El precio más alto fue de R$ 600.0.\n",
      "El precio más bajo fue de R$ 50.0.\n"
     ]
    }
   ],
   "source": [
    "precio_ano1 = float(input('Ingrese el precio promedio del automóvil en el primer año: '))\n",
    "precio_ano2 = float(input('Ingrese el precio promedio del automóvil en el segundo año: '))\n",
    "precio_ano3 = float(input('Ingrese el precio promedio del automóvil en el tercer año: '))\n",
    "\n",
    "# Determinamos el valor más alto mediante comparaciones\n",
    "mayor = precio_ano1\n",
    "if precio_ano2 > mayor:\n",
    "  mayor = precio_ano2\n",
    "if precio_ano3 > mayor:\n",
    "  mayor = precio_ano3\n",
    "# Determinamos el valor más bajo mediante comparaciones\n",
    "menor = precio_ano1\n",
    "if precio_ano2 < menor:\n",
    "  menor = precio_ano2\n",
    "if precio_ano3 < menor:\n",
    "  menor = precio_ano3\n",
    "# Mostramos los resultados\n",
    "print(f'El precio más alto fue de R$ {mayor}.')\n",
    "print(f'El precio más bajo fue de R$ {menor}.')"
   ]
  },
  {
   "cell_type": "markdown",
   "id": "a5b1d8e4",
   "metadata": {},
   "source": [
    "5.  Escribe un programa que pregunte sobre el precio de tres productos e indique cuál es el producto más barato para comprar."
   ]
  },
  {
   "cell_type": "code",
   "execution_count": 28,
   "id": "dda8129d",
   "metadata": {},
   "outputs": [
    {
     "name": "stdout",
     "output_type": "stream",
     "text": [
      "El producto mas barato es el primer producto, $ 10.0\n"
     ]
    }
   ],
   "source": [
    "producto1 = float(input('Ingrese el precio del primer producto: '))\n",
    "producto2 = float(input('Ingrese el precio del segundo producto: '))\n",
    "producto3 = float(input('Ingrese el precio del tercer producto: '))\n",
    "\n",
    "barato = producto1\n",
    "if producto2 < barato:\n",
    "    print(\"El producto mas barato es el segundo producto, $\", producto2)\n",
    "elif producto3 < barato: \n",
    "    print(\"El producto mas barato es el tercer producto, $\", producto3)\n",
    "else:\n",
    "    print(\"El producto mas barato es el primer producto, $\", producto1)"
   ]
  },
  {
   "cell_type": "markdown",
   "id": "4e176871",
   "metadata": {},
   "source": [
    "6. Escribe un programa que lea tres números y los muestre en orden descendente."
   ]
  },
  {
   "cell_type": "code",
   "execution_count": 29,
   "id": "0e30f105",
   "metadata": {},
   "outputs": [
    {
     "name": "stdout",
     "output_type": "stream",
     "text": [
      "6\n",
      "5\n",
      "5\n"
     ]
    }
   ],
   "source": [
    "num1 = int(input('Ingrese el primer número: '))\n",
    "num2 = int(input('Ingrese el segundo número: '))\n",
    "num3 = int(input('Ingrese el tercer número: '))\n",
    "\n",
    "if (num1 >= num2) and (num1 >= num3):\n",
    "    print(num1)\n",
    "    if num2 >= num3:\n",
    "        print(num2)\n",
    "        print(num3)\n",
    "    else:\n",
    "        print(num3)\n",
    "        print(num2)\n",
    "elif (num2 >= num1) and (num2 >= num3):\n",
    "    print(num2)\n",
    "    if num1 >= num3:\n",
    "        print(num1)\n",
    "        print(num3)\n",
    "    else:\n",
    "        print(num3)\n",
    "        print(num1)\n",
    "else:\n",
    "    print(num3)\n",
    "    if num1 >= num2:\n",
    "        print(num1)\n",
    "        print(num2)\n",
    "    else:\n",
    "        print(num2)\n",
    "        print(num1)"
   ]
  },
  {
   "cell_type": "markdown",
   "id": "deb38a0b",
   "metadata": {},
   "source": [
    "7. Escribe un programa que pregunte en qué turno estudia la persona usuaria (\"mañana\", \"tarde\" o \"noche\") y muestre el mensaje \"¡Buenos Días!\", \"¡Buenas Tardes!\", \"¡Buenas Noches!\" o \"Valor Inválido!\", según el caso."
   ]
  },
  {
   "cell_type": "code",
   "execution_count": 31,
   "id": "36c76041",
   "metadata": {},
   "outputs": [
    {
     "name": "stdout",
     "output_type": "stream",
     "text": [
      "¡Buenos tardes!\n"
     ]
    }
   ],
   "source": [
    "turno = input(\"¿En que turno estudias?\").lower()\n",
    "\n",
    "if turno == \"mañana\":\n",
    "    print(\"¡Buenos días!\")\n",
    "elif turno == \"tarde\":\n",
    "    print(\"¡Buenos tardes!\")\n",
    "elif turno == \"noche\":\n",
    "    print(\"¡Buenos noches!\")\n",
    "else:\n",
    "    print(\"Valor invalido!\")\n"
   ]
  },
  {
   "cell_type": "markdown",
   "id": "d4f98891",
   "metadata": {},
   "source": [
    "8. Escribe un programa que solicite un número entero a la persona usuaria y determine si es par o impar. Pista: Puedes usar el operador módulo (%)."
   ]
  },
  {
   "cell_type": "code",
   "execution_count": 33,
   "id": "1e36b257",
   "metadata": {},
   "outputs": [
    {
     "name": "stdout",
     "output_type": "stream",
     "text": [
      "Par\n"
     ]
    }
   ],
   "source": [
    "entero = int(input(\"Ingresa un numero entero\"));\n",
    "\n",
    "if entero % 2 == 0:\n",
    "    print(\"Par\")\n",
    "else:\n",
    "    print(\"Impar\")"
   ]
  },
  {
   "cell_type": "markdown",
   "id": "5ba65960",
   "metadata": {},
   "source": [
    "9. Escribe un programa que pida un número a la persona usuaria y le informe si es entero o decimal."
   ]
  },
  {
   "cell_type": "code",
   "execution_count": 34,
   "id": "bce8ae73",
   "metadata": {},
   "outputs": [
    {
     "name": "stdout",
     "output_type": "stream",
     "text": [
      "El número es decimal.\n"
     ]
    }
   ],
   "source": [
    "# Recolectamos los datos\n",
    "num = float(input('Ingresa un número: '))\n",
    "# Verificamos si el número es entero o decimal según el resultado del módulo\n",
    "if num % 1 == 0:\n",
    "    print('El número es entero.')\n",
    "else:\n",
    "    print('El número es decimal.')"
   ]
  },
  {
   "cell_type": "markdown",
   "id": "4009c291",
   "metadata": {},
   "source": [
    "10. Un programa debe ser escrito para leer dos números y luego preguntar a la persona usuaria qué operación desea realizar. El resultado de la operación debe incluir información sobre el número, si es par o impar, positivo o negativo, e entero o decimal."
   ]
  },
  {
   "cell_type": "code",
   "execution_count": null,
   "id": "b1b9cf10",
   "metadata": {},
   "outputs": [
    {
     "name": "stdout",
     "output_type": "stream",
     "text": [
      "4.5\n",
      "El número es impar\n",
      "El numero es positivo\n",
      "El número es decimal.\n"
     ]
    }
   ],
   "source": [
    "numero1_2 = float(input(\"Elije un número\"))\n",
    "numero2_2 = float(input(\"Elije un segundo número\"))\n",
    "\n",
    "Operacion = input(\"Que operacion deseas realizar\").lower()\n",
    "\n",
    "suma = numero1_2 + numero2_2;\n",
    "resta = numero1_2 - numero2_2;\n",
    "multi = numero1_2 * numero2_2;\n",
    "divi = numero1_2 / numero2_2;\n",
    "\n",
    "if Operacion == \"suma\":\n",
    "    print(\"La suma es\",suma)\n",
    "    if suma % 2 == 0:\n",
    "        print(\"El número es par\")\n",
    "    else:\n",
    "        print(\"El número es impar\")\n",
    "    if suma > 0:\n",
    "        print(\"El numero es positivo\")\n",
    "    elif suma == 0:\n",
    "        print(\"El número es cero\")\n",
    "    else:\n",
    "        print(\"El número es negativo\")\n",
    "    if suma % 1 == 0:\n",
    "        print('El número es entero.')\n",
    "    else:\n",
    "        print('El número es decimal.')\n",
    "\n",
    "elif Operacion == \"resta\":\n",
    "    print(resta)\n",
    "    if resta % 2 == 0:\n",
    "        print(\"El número es par\")\n",
    "    else:\n",
    "        print(\"El número es impar\")\n",
    "    if resta > 0:\n",
    "        print(\"El numero es positivo\")\n",
    "    elif resta == 0:\n",
    "        print(\"El número es cero\")\n",
    "    else:\n",
    "        print(\"El número es negativo\")\n",
    "    if resta % 1 == 0:\n",
    "        print('El número es entero.')\n",
    "    else:\n",
    "        print('El número es decimal.')\n",
    "\n",
    "elif Operacion == \"multiplicacion\":\n",
    "    print(multi)\n",
    "\n",
    "    if multi % 2 == 0:\n",
    "        print(\"El número es par\")\n",
    "    else:\n",
    "        print(\"El número es impar\")\n",
    "    if multi > 0:\n",
    "        print(\"El numero es positivo\")\n",
    "    elif multi == 0:\n",
    "        print(\"El número es cero\")\n",
    "    else:\n",
    "        print(\"El número es negativo\")\n",
    "    if multi % 1 == 0:\n",
    "        print('El número es entero.')\n",
    "    else:\n",
    "        print('El número es decimal.')\n",
    "elif Operacion == \"division\":\n",
    "    print(divi)\n",
    "    if divi % 2 == 0:\n",
    "        print(\"El número es par\")\n",
    "    else:\n",
    "        print(\"El número es impar\")\n",
    "    if divi > 0:\n",
    "        print(\"El numero es positivo\")\n",
    "    elif divi == 0:\n",
    "        print(\"El número es cero\")\n",
    "    else:\n",
    "        print(\"El número es negativo\")\n",
    "    if divi % 1 == 0:\n",
    "        print('El número es entero.')\n",
    "    else:\n",
    "        print('El número es decimal.')\n",
    "else:\n",
    "    print(\"La operacion no esta disponible\")\n",
    "\n"
   ]
  },
  {
   "cell_type": "code",
   "execution_count": null,
   "id": "77a866d2",
   "metadata": {},
   "outputs": [],
   "source": [
    "# Recolectamos los números a operar y solicitamos la operación deseada por el usuario\n",
    "num1 = float(input('Ingrese el primer número: '))\n",
    "num2 = float(input('Ingrese el segundo número: '))\n",
    "operación = input('Ingrese la operación deseada (+, -, *, /): ')\n",
    "\n",
    "# Verificamos la operación seleccionada y realizamos la operación matemática según la elección\n",
    "if operación == '+':\n",
    "    resultado = num1 + num2\n",
    "elif operación == '-':\n",
    "    resultado = num1 - num2\n",
    "elif operación == '*':\n",
    "    resultado = num1 * num2\n",
    "elif operación == '/':\n",
    "    resultado = num1 / num2\n",
    "else: # Especificamos un resultado en caso de que el usuario no ingrese una de las operaciones correctamente.\n",
    "    print('Operación no válida, el resultado de la operación será 0')\n",
    "    resultado = 0 \n",
    "\n",
    "# Realizamos las mismas verificaciones que en preguntas anteriores para generar el informe del cálculo entre números\n",
    "if resultado % 1 == 0:\n",
    "    print('El resultado es un número entero.')\n",
    "else:\n",
    "    print('El resultado es un número decimal.')\n",
    "\n",
    "if resultado > 0:\n",
    "    print('El resultado es positivo.')\n",
    "else:\n",
    "    print('El resultado es negativo.')\n",
    "\n",
    "if resultado % 2 == 0:\n",
    "    print('El resultado es un número par.')\n",
    "else:\n",
    "    print('El resultado es un número impar.')"
   ]
  },
  {
   "cell_type": "markdown",
   "id": "873dda45",
   "metadata": {},
   "source": [
    "11. Escribe un programa que pida a la persona usuaria tres números que representan los lados de un triángulo. El programa debe informar si los valores pueden utilizarse para formar un triángulo y, en caso afirmativo, si es equilátero, isósceles o escaleno. Ten en cuenta algunas sugerencias:\n",
    "\n",
    "Tres lados forman un triángulo cuando la suma de cualesquiera dos lados es mayor que el tercero;\n",
    "* Triángulo Equilátero: tres lados iguales;\n",
    "* Triángulo Isósceles: dos lados iguales;\n",
    "* Triángulo Escaleno: tres lados diferentes."
   ]
  },
  {
   "cell_type": "code",
   "execution_count": null,
   "id": "be282684",
   "metadata": {},
   "outputs": [
    {
     "name": "stdout",
     "output_type": "stream",
     "text": [
      "El triángulo es Isósceles\n"
     ]
    }
   ],
   "source": [
    "lado1 = float(input(\"Escribe el tamaño del primer lado\"))\n",
    "lado2 = float(input(\"Escribe el tamaño del segundo lado\"))\n",
    "lado3 = float(input(\"Escribe el tamaño del tercer lado\"))\n",
    "\n",
    "\n",
    "if lado3 > (lado1 + lado2):\n",
    "    print(\"No se puede formar un triángulo\")\n",
    "elif lado2 > (lado1 + lado3):\n",
    "    print(\"No se puede formar un triángulo\")\n",
    "elif lado1 > (lado2 + lado3):\n",
    "    print(\"No se puede formar un triángulo\")\n",
    "else:\n",
    "    if lado2 == lado2 and lado2 != lado1:\n",
    "        print(\"El triángulo es Isósceles\")\n",
    "    elif lado1 == lado3 and lado1 != lado2:\n",
    "        print(\"El triángulo es Isósceles\")\n",
    "    elif lado1 == lado2  and lado1 != lado3:\n",
    "        print(\"El triángulo es Isósceles\")\n",
    "    elif lado1 != lado2 != lado3:\n",
    "        print(\"El triángulo es escaleno\")\n",
    "    else:\n",
    "        print(\"Se puede formar un triángulo equilatero\")\n",
    "\n"
   ]
  },
  {
   "cell_type": "markdown",
   "id": "cad7a9f1",
   "metadata": {},
   "source": [
    "12. Un establecimiento está vendiendo combustibles con descuentos variables. Para el etanol, si la cantidad comprada es de hasta 15 litros, el descuento será del 2% por litro. En caso contrario, será del 4% por litro. Para el diésel, si la cantidad comprada es de hasta 15 litros, el descuento será del 3% por litro. En caso contrario, será del 5% por litro. El precio por litro de diésel es de R$ 2,00 y el precio por litro de etanol es de R$ 1,70. Escribe un programa que lea la cantidad de litros vendidos y el tipo de combustible (E para etanol y D para diésel) y calcule el valor a pagar por el cliente. Ten en cuenta algunas sugerencias:\n",
    "\n",
    "El valor del descuento será el producto del precio por litro, la cantidad de litros y el valor del descuento.\n",
    "El valor a pagar por un cliente será el resultado de la multiplicación del precio por litro por la cantidad de litros menos el valor del descuento resultante del cálculo."
   ]
  },
  {
   "cell_type": "code",
   "execution_count": 10,
   "id": "db10ddc6",
   "metadata": {},
   "outputs": [
    {
     "name": "stdout",
     "output_type": "stream",
     "text": [
      "El precio por 1.0 litro es: $ 1.96\n"
     ]
    }
   ],
   "source": [
    "gasolina = input(\"¿Que tipo de combustible necesitas?\").lower()\n",
    "litros = float(input(\"¿Cuántos litros necesitas?\"))\n",
    "\n",
    "E = 1.70;\n",
    "D = 2;\n",
    "\n",
    "if gasolina == \"etanol\":\n",
    "    Precio = E\n",
    "    if litros > 15:\n",
    "        pl = (Precio/100) * 96;\n",
    "    elif litros <= 15:\n",
    "        pl = (Precio/100) * 98;\n",
    "elif gasolina == \"diesel\":\n",
    "    Precio = D\n",
    "    if litros > 15:\n",
    "        pl = (Precio/100) * 96;\n",
    "    elif litros <= 15:\n",
    "        pl = (Precio/100) * 98;\n",
    "else:\n",
    "    (\"No reconozco este tipo de combustible o no esta disponible\")\n",
    "\n",
    "l = 0;\n",
    "if litros > 1:\n",
    "    l = \"litros\"\n",
    "elif litros == 1:\n",
    "    l = \"litro\"\n",
    "\n",
    "print(\"El precio por\",litros, l, \"es: $\", pl*litros,);\n"
   ]
  },
  {
   "cell_type": "markdown",
   "id": "d461fd95",
   "metadata": {},
   "source": [
    "13. En una empresa de venta de bienes raíces, debes crear un código que analice los datos de ventas anuales para ayudar a la dirección en la toma de decisiones. El código debe recopilar los datos de cantidad de ventas durante los años 2022 y 2023 y calcular la variación porcentual. A partir del valor de la variación, se deben proporcionar las siguientes sugerencias:\n",
    "\n",
    "* Para una variación superior al 20%: bonificación para el equipo de ventas.\n",
    "* Para una variación entre el 2% y el 20%: pequeña bonificación para el equipo de ventas.\n",
    "* Para una variación entre el 2% y el -10%: planificación de políticas de incentivo a las ventas.\n",
    "* Para bonificaciones inferiores al -10%: recorte de gastos."
   ]
  },
  {
   "cell_type": "code",
   "execution_count": null,
   "id": "8c9e0dd0",
   "metadata": {},
   "outputs": [],
   "source": [
    "# Recolectamos las ventas de los dos años\n",
    "venta_2022 = float(input('Ingrese la cantidad de ventas en 2022: '))\n",
    "venta_2023 = float(input('Ingrese la cantidad de ventas en 2023: '))\n",
    "\n",
    "# Calculamos la variación porcentual entre las ventas de los años 2022 y 2023\n",
    "var_porcentual = 100 * (venta_2023 - venta_2022) / (venta_2022)\n",
    "\n",
    "# Análisis condicional de la variación porcentual para determinar la sugerencia a enviar\n",
    "if var_porcentual > 20:\n",
    "    print('Bonificación para el equipo de ventas.')\n",
    "elif 2 <= var_porcentual <= 20:\n",
    "    print('Pequeña bonificación para el equipo de ventas.')\n",
    "elif -10 <= var_porcentual < 2:\n",
    "    print('Planificación de políticas de incentivo a las ventas.')\n",
    "else:\n",
    "    print('Recorte de gastos.')"
   ]
  }
 ],
 "metadata": {
  "kernelspec": {
   "display_name": "base",
   "language": "python",
   "name": "python3"
  },
  "language_info": {
   "codemirror_mode": {
    "name": "ipython",
    "version": 3
   },
   "file_extension": ".py",
   "mimetype": "text/x-python",
   "name": "python",
   "nbconvert_exporter": "python",
   "pygments_lexer": "ipython3",
   "version": "3.12.4"
  }
 },
 "nbformat": 4,
 "nbformat_minor": 5
}
