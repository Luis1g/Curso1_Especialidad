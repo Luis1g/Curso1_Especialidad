{
 "cells": [
  {
   "cell_type": "markdown",
   "id": "dd0c2706",
   "metadata": {},
   "source": [
    "1. Bruno gestiona un pequeño comercio y quiere saber qué producto tuvo el mejor desempeño de ventas el mes pasado. Registró la cantidad vendida de dos productos: manzanas y plátanos. Ahora, necesita escribir un programa que identifique y muestre cuál de ellos tuvo más ventas.\n",
    "\n",
    "Crea un programa que reciba el número de ventas de los dos productos y muestre un mensaje indicando cuál de ellos vendió más. Si las cantidades son iguales, muestra un mensaje diciendo que hubo un empate."
   ]
  },
  {
   "cell_type": "code",
   "execution_count": null,
   "id": "2f78d866",
   "metadata": {},
   "outputs": [
    {
     "name": "stdout",
     "output_type": "stream",
     "text": [
      "Se vendieron mas platanos\n"
     ]
    }
   ],
   "source": [
    "manzanas = int(input(\"Digite la cantidad de manzanas vendidas\"))\n",
    "platanos = int(input(\"Digite la cantidad de platanos vendidos\"))\n",
    "\n",
    "if manzanas < platanos:\n",
    "    print(\"Se vendieron mas platanos\")\n",
    "elif manzanas == platanos:\n",
    "    print(\"Se vendieron las misma cantidad de platanos y manzanas\")\n",
    "else:\n",
    "    print(\"Se vendieron mas manzanas\")\n"
   ]
  },
  {
   "cell_type": "markdown",
   "id": "a2f61c58",
   "metadata": {},
   "source": [
    "2. Lucas trabaja en TI y necesita garantizar que la temperatura de una sala de servidores no supere los 25°C. Quiere un programa que reciba la temperatura actual como entrada y, si es necesario, muestre un mensaje de alerta."
   ]
  },
  {
   "cell_type": "code",
   "execution_count": 4,
   "id": "6b66ff22",
   "metadata": {},
   "outputs": [
    {
     "name": "stdout",
     "output_type": "stream",
     "text": [
      "Temperatura segura\n"
     ]
    }
   ],
   "source": [
    "temperatura = float(input(\"Digite la temperatura actual:\"))\n",
    "\n",
    "if temperatura > 25:\n",
    "    print(\"¡ALERTA!, Temperatura por encima del limite permitido\")\n",
    "else:\n",
    "    print(\"Temperatura segura\")"
   ]
  },
  {
   "cell_type": "markdown",
   "id": "3c0ed929",
   "metadata": {},
   "source": [
    "3. Camila está organizando un proyecto y necesita calcular el tiempo total necesario para concluir tres actividades: A, B y C. Sin embargo, si alguna actividad tiene un número de días negativo, el código debe avisar que los valores ingresados son inválidos y no calcular el total.\n",
    "\n",
    "Escribe un programa que reciba el número de días de tres actividades y muestre el tiempo total del proyecto. Si algún valor es negativo, muestra un mensaje informando el error."
   ]
  },
  {
   "cell_type": "code",
   "execution_count": 12,
   "id": "b284e052",
   "metadata": {},
   "outputs": [
    {
     "name": "stdout",
     "output_type": "stream",
     "text": [
      "El tiempo total para el proyecto es de 13 días\n"
     ]
    }
   ],
   "source": [
    "actividad_A = int(input(\"Informe los días necesarios para la actividad A\"))\n",
    "actividad_B = int(input(\"Informe los días necesarios para la actividad B\"))\n",
    "actividad_C = int(input(\"Informe los días necesarios para la actividad C\"))\n",
    "\n",
    "if actividad_A < 0 or actividad_B < 0 or actividad_C < 0:\n",
    "    print(\"Error los días no pueden ser negativos\")\n",
    "else:\n",
    "    print(f\"El tiempo total para el proyecto es de {actividad_C + actividad_B + actividad_A} días\")\n"
   ]
  },
  {
   "cell_type": "markdown",
   "id": "69154264",
   "metadata": {},
   "source": [
    "4. Anna Júlia está creando un sistema para calcular el Índice de Masa Corporal (IMC) y proporcionar recomendaciones básicas. El programa debe recibir el peso y la altura de una persona y mostrar el valor del IMC, además de indicar si está por debajo del peso, con peso normal o por encima del peso. Crea un programa que reciba el peso (en kg) y la altura (en metros) y calcule el IMC usando la fórmula: IMC = peso / (altura ** 2)Luego, muestra el valor del IMC y un mensaje indicando si está por debajo del peso (IMC < 18.5), peso normal (18.5 <= IMC < 25) o por encima del peso (IMC >= 25)."
   ]
  },
  {
   "cell_type": "code",
   "execution_count": 4,
   "id": "606ffe38",
   "metadata": {},
   "outputs": [
    {
     "name": "stdout",
     "output_type": "stream",
     "text": [
      "Peso normal\n",
      "Su IMC es: 24.77\n"
     ]
    }
   ],
   "source": [
    "peso = float(input(\"Ingresa tu peso\"))\n",
    "altura = float(input(\"Ingresa tu altura\"))\n",
    "\n",
    "imc = peso / (altura ** 2)\n",
    "\n",
    "if imc >= 25:\n",
    "    print(\"Por encima del peso\")\n",
    "elif imc < 18.5:\n",
    "    print(\"Por debajo del peso\")\n",
    "else:\n",
    "    print(\"Peso normal\")\n",
    "\n",
    "print(f\"Su IMC es: {imc:.2f}\")"
   ]
  },
  {
   "cell_type": "markdown",
   "id": "59a851bd",
   "metadata": {},
   "source": [
    "Laura está desarrollando un sistema para saber si una persona tiene derecho a recibir un beneficio social. Para eso, la persona debe cumplir las siguientes condiciones:\n",
    "\n",
    "* Tener ingresos menores o iguales a $2,000.\n",
    "* Tener al menos un hijo o hija.\n",
    "\n",
    "Crea un programa que reciba los ingresos mensuales y la cantidad de hijos de una persona, y diga si tiene derecho al beneficio."
   ]
  },
  {
   "cell_type": "code",
   "execution_count": 6,
   "id": "b97bec25",
   "metadata": {},
   "outputs": [
    {
     "name": "stdout",
     "output_type": "stream",
     "text": [
      "Sin derecho al beneficio\n"
     ]
    }
   ],
   "source": [
    "ingresos = float(input(\"¿Cual es tu ingreso mensual?\"))\n",
    "hijos = int(input(\"¿Cuantos hijos tienes?\"))\n",
    "\n",
    "if ingresos <= 2000 and hijos > 0:\n",
    "    print(\"Con derecho al beneficio\")\n",
    "else:\n",
    "    print(\"Sin derecho al beneficio\")"
   ]
  },
  {
   "cell_type": "markdown",
   "id": "df121f97",
   "metadata": {},
   "source": [
    "Una empresa evalúa a sus empleados con base en dos criterios:\n",
    "\n",
    "* Puntuación de desempeño (de 0 a 10)\n",
    "* Años trabajados\n",
    "\n",
    "Reglas:\n",
    "\n",
    "* Si la puntuación es mayor o igual a 7:\n",
    "\n",
    " Si trabajó más de 5 años: \"Elegible para ascenso\"\n",
    " \n",
    " Si trabajó 5 años o menos: \"Buen desempeño, sigue así\"\n",
    " \n",
    "* Si la puntuación es menor a 7: \"Necesita mejorar\"\n",
    "\n",
    "Crea un programa que reciba la puntuación y los años trabajados, y muestre el mensaje adecuado."
   ]
  },
  {
   "cell_type": "code",
   "execution_count": null,
   "id": "8bb0423f",
   "metadata": {},
   "outputs": [
    {
     "name": "stdout",
     "output_type": "stream",
     "text": [
      "Elegible para ascenso\n"
     ]
    }
   ],
   "source": [
    "puntuacion = int(input(\"Ingresa la puntuación\"))\n",
    "anos = float(input(\"Ingrese los años trabajados\"))\n",
    "\n",
    "if puntuacion >= 7:\n",
    "    if anos > 5:\n",
    "        print(\"Elegible para ascenso\")\n",
    "    else:\n",
    "        print(\"Buen desempeño, sigue así\")\n",
    "else:\n",
    "    print(\"Necesita mejorar\")\n"
   ]
  },
  {
   "cell_type": "markdown",
   "id": "24f2b894",
   "metadata": {},
   "source": [
    "Estás desarrollando un pequeño juego. El usuario ingresa un número entero y el programa debe evaluar lo siguiente:\n",
    "\n",
    "* Si el número es divisible por 3 y 5, muestra: \"¡Número mágico!\"\n",
    "* Si solo es divisible por 3, muestra: \"Divisible por 3\"\n",
    "* Si solo es divisible por 5, muestra: \"Divisible por 5\"\n",
    "* Si no es divisible por ninguno, muestra: \"No es un número mágico\"\n",
    "\n",
    "Este tipo de lógica es muy útil en juegos, validaciones o filtros."
   ]
  },
  {
   "cell_type": "code",
   "execution_count": 15,
   "id": "62aaed05",
   "metadata": {},
   "outputs": [
    {
     "name": "stdout",
     "output_type": "stream",
     "text": [
      "2 No es un número magico\n"
     ]
    }
   ],
   "source": [
    "numero = int(input(\"Ingrese un número:\"))\n",
    "\n",
    "if numero % 3 == 0 and numero % 5== 0:\n",
    "    print(\"Número mágico\")\n",
    "elif numero % 3 == 0:\n",
    "        print(f\"El número {numero} es divisible por 3\")\n",
    "elif  numero % 5 == 0:\n",
    "        print(f\"El número {numero} es divisible por 5\")\n",
    "else:\n",
    "    print(numero,\"No es un número magico\")\n"
   ]
  },
  {
   "cell_type": "markdown",
   "id": "df0a3b91",
   "metadata": {},
   "source": [
    "Una escuela otorga becas según tres criterios:\n",
    "\n",
    "* Ingreso familiar mensual.\n",
    "* Promedio del estudiante.\n",
    "* Asistencia (en porcentaje).\n",
    "\n",
    "Reglas:\n",
    "\n",
    "* Si el ingreso es menor a $1,500 y el promedio es mayor a 8.0 y la asistencia es al menos 90% → \"Beca completa\"\n",
    "* Si el ingreso es menor a $2,500 y promedio mayor a 7.0 y asistencia al menos 85% → \"Media beca\"\n",
    "* En otros casos → \"No elegible para beca\""
   ]
  },
  {
   "cell_type": "code",
   "execution_count": null,
   "id": "10968da0",
   "metadata": {},
   "outputs": [
    {
     "name": "stdout",
     "output_type": "stream",
     "text": [
      "Beca completa\n"
     ]
    }
   ],
   "source": [
    "ingreso_mensual = int(input(\"¿Cuál es el ingreso familiar?\"))\n",
    "promedio = float(input(\"¿Cuál es su promedio?\"))\n",
    "asistecia = float(input(\"Cuál es el porcentaje de asistencia\"))\n",
    "\n",
    "if ingreso_mensual < 1500 and promedio > 8 and asistecia > 90:\n",
    "    print(\"Beca completa\")\n",
    "elif ingreso_mensual < 2500 and promedio > 7 and asistecia > 85:\n",
    "    print(\"Media beca\")\n",
    "else:\n",
    "    print(\"No elegible para la beca\")\n"
   ]
  },
  {
   "cell_type": "markdown",
   "id": "925a8f09",
   "metadata": {},
   "source": [
    "Un sistema de transporte cobra según la edad del pasajero y la distancia recorrida:\n",
    "\n",
    "* Menores de 6 años: Viajan gratis.\n",
    "* De 6 a 18 años:\n",
    "\n",
    "Hasta 20 km: $1.50\n",
    "\n",
    "Más de 20 km: $2.50\n",
    "* Mayores de 18:\n",
    "\n",
    "Hasta 20 km: $2.50\n",
    "\n",
    "Más de 20 km: $4.00\n",
    "\n",
    "Crea un programa que reciba la edad y distancia, y muestre el valor a pagar."
   ]
  },
  {
   "cell_type": "code",
   "execution_count": 19,
   "id": "56dbd55b",
   "metadata": {},
   "outputs": [
    {
     "name": "stdout",
     "output_type": "stream",
     "text": [
      "$ 1.50\n"
     ]
    }
   ],
   "source": [
    "edad = int(input(\"¿Cuál es su edad?\"))\n",
    "distancia = float(input(\"¿Cuál es la distancia recorrida (en kilometros)?\"))\n",
    "\n",
    "if edad < 6:\n",
    "    print(\"Viaja gratis\")\n",
    "elif edad <= 18:\n",
    "    if distancia <= 20:\n",
    "        print(\"$ 1.50\")\n",
    "    else:\n",
    "        print(\"$ 2.50\")\n",
    "else:\n",
    "    if distancia <= 20:\n",
    "        print(\"$2.50\")\n",
    "    else:\n",
    "        print(\"$4.00\")"
   ]
  },
  {
   "cell_type": "markdown",
   "id": "fde4b776",
   "metadata": {},
   "source": [
    "Una empresa evalúa su trimestre con base en:\n",
    "\n",
    "* Ingresos totales\n",
    "* Gastos totales\n",
    "* Número de nuevos clientes\n",
    "\n",
    "Clasificación:\n",
    "\n",
    "* Si ingresos - gastos > $10,000 y más de 50 nuevos clientes → \"Trimestre Excelente\"\n",
    "* Si ingresos - gastos > $5,000 y al menos 20 clientes → \"Trimestre Bueno\"\n",
    "* Si ingresos - gastos > 0 → \"Trimestre Regular\"\n",
    "* Si ingresos - gastos ≤ 0 → \"Trimestre Deficitario\""
   ]
  },
  {
   "cell_type": "code",
   "execution_count": null,
   "id": "41fc90ce",
   "metadata": {},
   "outputs": [],
   "source": [
    "ingresos = float(input(\"Ingrese los ingresos del trimestre: \"))\n",
    "gastos = float(input(\"Ingrese los gastos del trimestre: \"))\n",
    "clientes_nuevos = int(input(\"Ingrese el número de nuevos clientes: \"))\n",
    "\n",
    "beneficio = ingresos - gastos\n",
    "\n",
    "if beneficio > 10000 and clientes_nuevos > 50:\n",
    "    print(\"Trimestre Excelente\")\n",
    "elif beneficio > 5000 and clientes_nuevos >= 20:\n",
    "    print(\"Trimestre Bueno\")\n",
    "elif beneficio > 0:\n",
    "    print(\"Trimestre Regular\")\n",
    "else:\n",
    "    print(\"Trimestre Deficitario\")"
   ]
  }
 ],
 "metadata": {
  "kernelspec": {
   "display_name": "Python 3",
   "language": "python",
   "name": "python3"
  },
  "language_info": {
   "codemirror_mode": {
    "name": "ipython",
    "version": 3
   },
   "file_extension": ".py",
   "mimetype": "text/x-python",
   "name": "python",
   "nbconvert_exporter": "python",
   "pygments_lexer": "ipython3",
   "version": "3.13.7"
  }
 },
 "nbformat": 4,
 "nbformat_minor": 5
}
