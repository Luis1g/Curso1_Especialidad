{
 "cells": [
  {
   "cell_type": "markdown",
   "id": "dd0c2706",
   "metadata": {},
   "source": [
    "1. Bruno gestiona un pequeño comercio y quiere saber qué producto tuvo el mejor desempeño de ventas el mes pasado. Registró la cantidad vendida de dos productos: manzanas y plátanos. Ahora, necesita escribir un programa que identifique y muestre cuál de ellos tuvo más ventas.\n",
    "\n",
    "Crea un programa que reciba el número de ventas de los dos productos y muestre un mensaje indicando cuál de ellos vendió más. Si las cantidades son iguales, muestra un mensaje diciendo que hubo un empate."
   ]
  },
  {
   "cell_type": "code",
   "execution_count": null,
   "id": "2f78d866",
   "metadata": {},
   "outputs": [
    {
     "name": "stdout",
     "output_type": "stream",
     "text": [
      "Se vendieron mas platanos\n"
     ]
    }
   ],
   "source": [
    "manzanas = int(input(\"Digite la cantidad de manzanas vendidas\"))\n",
    "platanos = int(input(\"Digite la cantidad de platanos vendidos\"))\n",
    "\n",
    "if manzanas < platanos:\n",
    "    print(\"Se vendieron mas platanos\")\n",
    "elif manzanas == platanos:\n",
    "    print(\"Se vendieron las misma cantidad de platanos y manzanas\")\n",
    "else:\n",
    "    print(\"Se vendieron mas manzanas\")\n"
   ]
  },
  {
   "cell_type": "markdown",
   "id": "a2f61c58",
   "metadata": {},
   "source": [
    "2. Lucas trabaja en TI y necesita garantizar que la temperatura de una sala de servidores no supere los 25°C. Quiere un programa que reciba la temperatura actual como entrada y, si es necesario, muestre un mensaje de alerta."
   ]
  },
  {
   "cell_type": "code",
   "execution_count": 4,
   "id": "6b66ff22",
   "metadata": {},
   "outputs": [
    {
     "name": "stdout",
     "output_type": "stream",
     "text": [
      "Temperatura segura\n"
     ]
    }
   ],
   "source": [
    "temperatura = float(input(\"Digite la temperatura actual:\"))\n",
    "\n",
    "if temperatura > 25:\n",
    "    print(\"¡ALERTA!, Temperatura por encima del limite permitido\")\n",
    "else:\n",
    "    print(\"Temperatura segura\")"
   ]
  },
  {
   "cell_type": "markdown",
   "id": "3c0ed929",
   "metadata": {},
   "source": [
    "3. Camila está organizando un proyecto y necesita calcular el tiempo total necesario para concluir tres actividades: A, B y C. Sin embargo, si alguna actividad tiene un número de días negativo, el código debe avisar que los valores ingresados son inválidos y no calcular el total.\n",
    "\n",
    "Escribe un programa que reciba el número de días de tres actividades y muestre el tiempo total del proyecto. Si algún valor es negativo, muestra un mensaje informando el error."
   ]
  },
  {
   "cell_type": "code",
   "execution_count": 12,
   "id": "b284e052",
   "metadata": {},
   "outputs": [
    {
     "name": "stdout",
     "output_type": "stream",
     "text": [
      "El tiempo total para el proyecto es de 13 días\n"
     ]
    }
   ],
   "source": [
    "actividad_A = int(input(\"Informe los días necesarios para la actividad A\"))\n",
    "actividad_B = int(input(\"Informe los días necesarios para la actividad B\"))\n",
    "actividad_C = int(input(\"Informe los días necesarios para la actividad C\"))\n",
    "\n",
    "if actividad_A < 0 or actividad_B < 0 or actividad_C < 0:\n",
    "    print(\"Error los días no pueden ser negativos\")\n",
    "else:\n",
    "    print(f\"El tiempo total para el proyecto es de {actividad_C + actividad_B + actividad_A} días\")\n"
   ]
  },
  {
   "cell_type": "markdown",
   "id": "69154264",
   "metadata": {},
   "source": [
    "4. Anna Júlia está creando un sistema para calcular el Índice de Masa Corporal (IMC) y proporcionar recomendaciones básicas. El programa debe recibir el peso y la altura de una persona y mostrar el valor del IMC, además de indicar si está por debajo del peso, con peso normal o por encima del peso. Crea un programa que reciba el peso (en kg) y la altura (en metros) y calcule el IMC usando la fórmula: IMC = peso / (altura ** 2)Luego, muestra el valor del IMC y un mensaje indicando si está por debajo del peso (IMC < 18.5), peso normal (18.5 <= IMC < 25) o por encima del peso (IMC >= 25)."
   ]
  },
  {
   "cell_type": "code",
   "execution_count": null,
   "id": "606ffe38",
   "metadata": {},
   "outputs": [],
   "source": []
  }
 ],
 "metadata": {
  "kernelspec": {
   "display_name": "Python 3",
   "language": "python",
   "name": "python3"
  },
  "language_info": {
   "codemirror_mode": {
    "name": "ipython",
    "version": 3
   },
   "file_extension": ".py",
   "mimetype": "text/x-python",
   "name": "python",
   "nbconvert_exporter": "python",
   "pygments_lexer": "ipython3",
   "version": "3.13.7"
  }
 },
 "nbformat": 4,
 "nbformat_minor": 5
}
