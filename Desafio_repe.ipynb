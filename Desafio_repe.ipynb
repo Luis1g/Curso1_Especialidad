{
 "cells": [
  {
   "cell_type": "markdown",
   "id": "06319273",
   "metadata": {},
   "source": [
    "1. Escribe un programa que solicite dos números enteros e imprima todos los números enteros entre ellos."
   ]
  },
  {
   "cell_type": "code",
   "execution_count": 2,
   "id": "059e30a1",
   "metadata": {},
   "outputs": [
    {
     "name": "stdout",
     "output_type": "stream",
     "text": [
      "2\n",
      "3\n",
      "4\n",
      "5\n"
     ]
    }
   ],
   "source": [
    "numero1 = int(input(\"Selecciona un numero\"))\n",
    "numero2 = int(input(\"Selecciona un segundo número mayor que el anterior\"))\n",
    "n=numero1;\n",
    "for n in range(numero1+1, numero2):\n",
    "    print(n);"
   ]
  },
  {
   "cell_type": "markdown",
   "id": "4c769c94",
   "metadata": {},
   "source": [
    "2. Escribe un programa para calcular cuántos días tomará que la colonia de una bacteria A supere o iguale a la colonia de una bacteria B, basado en tasas de crecimiento del 3% y 1.5%, respectivamente. Supón que la colonia A comienza con 4 elementos y B con 10."
   ]
  },
  {
   "cell_type": "code",
   "execution_count": 1,
   "id": "14d57948",
   "metadata": {},
   "outputs": [
    {
     "name": "stdout",
     "output_type": "stream",
     "text": [
      "Necesitará 63 días para que la colonia A supere a la colonia B.\n"
     ]
    }
   ],
   "source": [
    "A = 4;\n",
    "B = 10;\n",
    "\n",
    "# Tasas de crecimiento de las colonias\n",
    "tasa_a = 0.03\n",
    "tasa_b = 0.015\n",
    "\n",
    "# Contador de días\n",
    "días = 0\n",
    "\n",
    "# La condición que termina el bucle es cuando\n",
    "# la colonia A supera a la colonia B\n",
    "while A <= B:\n",
    "  # Usamos un operador de asignación con multiplicación\n",
    "  A *= 1 + tasa_a\n",
    "  B *= 1 + tasa_b\n",
    "  # Contamos los días en cada iteración\n",
    "  días += 1\n",
    "\n",
    "# Resultado final\n",
    "print(f'Necesitará {días} días para que la colonia A supere a la colonia B.')\n",
    "\n"
   ]
  },
  {
   "cell_type": "markdown",
   "id": "a7f43adc",
   "metadata": {},
   "source": [
    "3. Para procesar una cantidad de 15 datos de evaluaciones de usuarios de un servicio de la empresa, necesitamos verificar si las calificaciones son válidas. Por lo tanto, escribe un programa que recibirá calificaciones del 0 al 5 y verificará si son valores válidos. Si se ingresa una calificación superior a 5 o inferior a 0, se repetirá hasta que el usuario ingrese un valor válido."
   ]
  },
  {
   "cell_type": "code",
   "execution_count": 8,
   "id": "756f21bf",
   "metadata": {},
   "outputs": [
    {
     "name": "stdout",
     "output_type": "stream",
     "text": [
      "todas las calificaciones han sido verificadad\n"
     ]
    }
   ],
   "source": [
    "for n in range(15):\n",
    "    nota = float(input(\"Ingresa la calificación \"))\n",
    "\n",
    "    while (nota < 0) or (nota > 5):\n",
    "        nota = float(input(f'Nota no válida, ingresa nuevamente la nota del usuario {n}: '))\n",
    "print(\"todas las calificaciones han sido verificadad\")"
   ]
  },
  {
   "cell_type": "markdown",
   "id": "1d964ae3",
   "metadata": {},
   "source": [
    "4. Desarrolla un programa que lea un conjunto indefinido de temperaturas en grados Celsius y calcule su promedio. La lectura debe detenerse al ingresar el valor -273°C."
   ]
  },
  {
   "cell_type": "code",
   "execution_count": 13,
   "id": "5f648f05",
   "metadata": {},
   "outputs": [
    {
     "name": "stdout",
     "output_type": "stream",
     "text": [
      "El promedio de las temperaturas es 30.0\n"
     ]
    }
   ],
   "source": [
    "temperatura = float(input(\"Ingresa la temperatura en grados celcius\"))\n",
    "\n",
    "i = 0\n",
    "suma = 0\n",
    "while temperatura != -273:\n",
    "    suma += temperatura\n",
    "    i += 1\n",
    "    temperatura =float(input(\"Ingrese la temperatura en grados celcius\"))\n",
    "\n",
    "promedio = suma/i\n",
    "print(f\"El promedio de las temperaturas es {promedio}\")\n"
   ]
  },
  {
   "cell_type": "markdown",
   "id": "9c3449ea",
   "metadata": {},
   "source": [
    "5. Escribe un programa que calcule el factorial de un número entero proporcionado por el usuario. Recuerda que el factorial de un número entero es el producto de ese número por todos sus antecesores hasta llegar al número 1. Por ejemplo, el factorial de 5 es 5 x 4 x 3 x 2 x 1 = 120."
   ]
  },
  {
   "cell_type": "code",
   "execution_count": 19,
   "id": "5c342c58",
   "metadata": {},
   "outputs": [
    {
     "name": "stdout",
     "output_type": "stream",
     "text": [
      "El factorial de 5 es 120\n"
     ]
    }
   ],
   "source": [
    "numero = int(input(\"Ingresa un numero entero\"))\n",
    "\n",
    "facto = 1;\n",
    "for n in range(numero, 0, -1):\n",
    "    facto = n * facto;\n",
    "print(f\"El factorial de {numero} es {facto}\")"
   ]
  },
  {
   "cell_type": "code",
   "execution_count": null,
   "id": "02a91ae2",
   "metadata": {},
   "outputs": [],
   "source": [
    "# Solicita el número\n",
    "num = int(input(\"Ingresa un número entero:\"))\n",
    "\n",
    "# Inicializa el cálculo\n",
    "factorial = 1\n",
    "\n",
    "# Nuestro contador comienza con el número máximo\n",
    "# y se realizará un conteo decreciente con el operador -=\n",
    "i = num\n",
    "while i > 0:\n",
    "    # Queremos multiplicar el valor factorial por el número\n",
    "    # y todos los números por debajo de él hasta 1\n",
    "    factorial *= i\n",
    "    i -= 1\n",
    "\n",
    "# Imprime el cálculo del factorial\n",
    "print(f'El factorial de {num} es {factorial}')"
   ]
  },
  {
   "cell_type": "markdown",
   "id": "3f70599b",
   "metadata": {},
   "source": [
    "6. Escribe un programa que genere la tabla de multiplicar de un número entero del 1 al 10, según la elección del usuario. Como ejemplo, para el número 2, la tabla de multiplicar debe mostrarse en el siguiente formato:"
   ]
  },
  {
   "cell_type": "code",
   "execution_count": 24,
   "id": "24b7465c",
   "metadata": {},
   "outputs": [
    {
     "name": "stdout",
     "output_type": "stream",
     "text": [
      "TABLA DE MULTIPLICAR DEL 4\n",
      "4 X 1 = 4\n",
      "4 X 2 = 8\n",
      "4 X 3 = 12\n",
      "4 X 4 = 16\n",
      "4 X 5 = 20\n",
      "4 X 6 = 24\n",
      "4 X 7 = 28\n",
      "4 X 8 = 32\n",
      "4 X 9 = 36\n",
      "4 X 10 = 40\n"
     ]
    }
   ],
   "source": [
    "nMultiplicar = int(input(\"Ingrese el número que desea:\"))\n",
    "i = 1\n",
    "print(f\"TABLA DE MULTIPLICAR DEL {nMultiplicar}\")\n",
    "while i <= 10:\n",
    "    multiplicacion = nMultiplicar *i\n",
    "    print(f\"{nMultiplicar} X {i} = {multiplicacion}\")\n",
    "    i += 1"
   ]
  },
  {
   "cell_type": "code",
   "execution_count": null,
   "id": "baf08299",
   "metadata": {},
   "outputs": [],
   "source": [
    "# Solicita el número\n",
    "num = int(input('Ingresa un número entero del 1 al 10: ')\n",
    "\n",
    "# Generamos la tabla de multiplicar\n",
    "print(f'Tabla de multiplicar del {num}:')\n",
    "for i in range(1, 11):\n",
    "    resultado = num * i\n",
    "    print(f'{num} x {i} = {resultado}')"
   ]
  },
  {
   "cell_type": "markdown",
   "id": "99b28778",
   "metadata": {},
   "source": [
    "7. Los números primos tienen diversas aplicaciones en Ciencia de Datos, como en criptografía y seguridad. Un número primo es aquel que es divisible solo por sí mismo y por 1. Por lo tanto, crea un programa que solicite un número entero y determine si es un número primo o no."
   ]
  },
  {
   "cell_type": "code",
   "execution_count": 27,
   "id": "e553e616",
   "metadata": {},
   "outputs": [
    {
     "name": "stdout",
     "output_type": "stream",
     "text": [
      "97 es un número primo\n"
     ]
    }
   ],
   "source": [
    "nPrimos = int(input(\"Ingrese un número:\"))\n",
    "\n",
    "if nPrimos > 1:\n",
    "    for i in range(2, nPrimos):\n",
    "        # Verificamos todos los residuos de la división entre todos los números menores que num\n",
    "        # Si algún residuo es 0, significa que es divisible por otro número además de sí mismo y 1\n",
    "        if (nPrimos % i) == 0:\n",
    "            print(f'{nPrimos} no es un número primo')\n",
    "            break\n",
    "    else:\n",
    "        print(f'{nPrimos} es un número primo')\n",
    "else:\n",
    "    print(f'{nPrimos} no es un número primo')"
   ]
  },
  {
   "cell_type": "markdown",
   "id": "9e8f5d96",
   "metadata": {},
   "source": [
    "8.80 Vamos a comprender la distribución de edades de los pensionistas de una empresa de seguros. Escribe un programa que lea las edades de una cantidad no informada de clientes y muestre la distribución en los intervalos [0-25], [26-50], [51-75] y [76-100]. La entrada de datos se detendrá al ingresar un número negativo."
   ]
  },
  {
   "cell_type": "code",
   "execution_count": 32,
   "id": "9502abf3",
   "metadata": {},
   "outputs": [
    {
     "name": "stdout",
     "output_type": "stream",
     "text": [
      "Distribución de edades:\n",
      "[0-25]: 1\n",
      "[26-50]: 2\n",
      "[51-75]: 1\n",
      "[76-100]: 1\n"
     ]
    }
   ],
   "source": [
    "edad = int(input(\"Ingrese la edad:\"))\n",
    "\n",
    "contador_0_25 = 0\n",
    "contador_26_50 = 0\n",
    "contador_51_75 = 0\n",
    "contador_76_100 = 0\n",
    "\n",
    "while edad >= 0:\n",
    "    if edad >= 0 and edad <=25:\n",
    "        contador_0_25 +=1\n",
    "    if edad > 25 and edad <=50:\n",
    "        contador_26_50 +=1\n",
    "    if edad > 50 and edad <=75:\n",
    "        contador_51_75 +=1\n",
    "    if edad > 75 and edad <=100:\n",
    "        contador_76_100 +=1\n",
    "    edad = int(input(\"Ingrese la edad:\"))\n",
    "\n",
    "\n",
    "print('Distribución de edades:')\n",
    "print('[0-25]:', contador_0_25)\n",
    "print('[26-50]:', contador_26_50)\n",
    "print('[51-75]:', contador_51_75)\n",
    "print('[76-100]:', contador_76_100)\n"
   ]
  },
  {
   "cell_type": "markdown",
   "id": "fd5c6fee",
   "metadata": {},
   "source": [
    "9. En una elección para la gerencia de una empresa con 20 empleados, hay cuatro candidatos. Escribe un programa que calcule al ganador de la elección. La votación se realizó de la siguiente manera:\n",
    "\n",
    "Cada empleado votó por uno de los cuatro candidatos (representados por los números 1, 2, 3 y 4).\n",
    "\n",
    "También se contaron los votos nulos (representados por el número 5) y los votos en blanco (representados por el número 6).\n",
    "\n",
    "Al final de la votación, el programa debe mostrar el número total de votos para cada candidato, los votos nulos y los votos en blanco. Además, debe calcular y mostrar el porcentaje de votos nulos con respecto al total de votos y el porcentaje de votos en blanco con respecto al total de votos."
   ]
  },
  {
   "cell_type": "code",
   "execution_count": null,
   "id": "b8a0a15f",
   "metadata": {},
   "outputs": [],
   "source": [
    "voto = int(input(\"Ingrese su voto:\"))\n",
    "\n",
    "Candidato_1 = 0\n",
    "Candidato_2 = 0\n",
    "Candidato_3 = 0\n",
    "Candidato_4 = 0\n",
    "nulos = 0\n",
    "blancos = 0\n",
    "\n",
    "for i in range(20):\n",
    "    if voto == 1:\n",
    "        Candidato_1 += 1\n",
    "    elif voto == 2:\n",
    "        Candidato_2 += 1\n",
    "    elif voto == 3:\n",
    "        Candidato_3 += 1\n",
    "    elif voto == 4:\n",
    "        Candidato_4 += 1\n",
    "    elif voto == 5:\n",
    "        nulos += 1\n",
    "    elif voto == 6:\n",
    "        blancos += 1\n",
    "    else:\n",
    "        input(f\"Ingresa nuevamente un valor valido para la persona {i}\")\n",
    "    i += 1\n",
    "    voto = int(input(\"Ingrese su voto:\"))\n",
    "porcentaje_nulos = (100/20)*nulos\n",
    "porcentaje_blancos = (100/20)*blancos\n",
    "\n",
    "print(\"Votos totales\")\n",
    "print(f\"El numero de votos para el primer candidato es {Candidato_1}\")\n",
    "print(f\"El numero de votos para el segundo candidato es {Candidato_2}\")\n",
    "print(f\"El numero de votos para el tercer candidato es {Candidato_3}\")\n",
    "print(f\"El numero de votos para el cuarto candidato es {Candidato_4}\")\n",
    "print(f\"El porcentaje de votos nulos es de {porcentaje_nulos}%\")\n",
    "print(f\"El porcentaje de votos blancos es de {porcentaje_blancos}%\")\n"
   ]
  }
 ],
 "metadata": {
  "kernelspec": {
   "display_name": "base",
   "language": "python",
   "name": "python3"
  },
  "language_info": {
   "codemirror_mode": {
    "name": "ipython",
    "version": 3
   },
   "file_extension": ".py",
   "mimetype": "text/x-python",
   "name": "python",
   "nbconvert_exporter": "python",
   "pygments_lexer": "ipython3",
   "version": "3.12.4"
  }
 },
 "nbformat": 4,
 "nbformat_minor": 5
}
