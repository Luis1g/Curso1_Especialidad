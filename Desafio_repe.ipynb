{
 "cells": [
  {
   "cell_type": "markdown",
   "id": "06319273",
   "metadata": {},
   "source": [
    "1. Escribe un programa que solicite dos números enteros e imprima todos los números enteros entre ellos."
   ]
  },
  {
   "cell_type": "code",
   "execution_count": 2,
   "id": "059e30a1",
   "metadata": {},
   "outputs": [
    {
     "name": "stdout",
     "output_type": "stream",
     "text": [
      "2\n",
      "3\n",
      "4\n",
      "5\n"
     ]
    }
   ],
   "source": [
    "numero1 = int(input(\"Selecciona un numero\"))\n",
    "numero2 = int(input(\"Selecciona un segundo número mayor que el anterior\"))\n",
    "n=numero1;\n",
    "for n in range(numero1+1, numero2):\n",
    "    print(n);"
   ]
  },
  {
   "cell_type": "markdown",
   "id": "4c769c94",
   "metadata": {},
   "source": [
    "2. Escribe un programa para calcular cuántos días tomará que la colonia de una bacteria A supere o iguale a la colonia de una bacteria B, basado en tasas de crecimiento del 3% y 1.5%, respectivamente. Supón que la colonia A comienza con 4 elementos y B con 10."
   ]
  },
  {
   "cell_type": "code",
   "execution_count": null,
   "id": "14d57948",
   "metadata": {},
   "outputs": [],
   "source": []
  }
 ],
 "metadata": {
  "kernelspec": {
   "display_name": "base",
   "language": "python",
   "name": "python3"
  },
  "language_info": {
   "codemirror_mode": {
    "name": "ipython",
    "version": 3
   },
   "file_extension": ".py",
   "mimetype": "text/x-python",
   "name": "python",
   "nbconvert_exporter": "python",
   "pygments_lexer": "ipython3",
   "version": "3.12.4"
  }
 },
 "nbformat": 4,
 "nbformat_minor": 5
}
