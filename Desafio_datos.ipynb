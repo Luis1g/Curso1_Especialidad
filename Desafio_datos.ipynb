{
 "cells": [
  {
   "cell_type": "markdown",
   "id": "73ca8ac4",
   "metadata": {},
   "source": [
    "1. Crea un programa que tenga la siguiente lista con los gastos de una empresa de papel [2172.54, 3701.35, 3518.09, 3456.61, 3249.38, 2840.82, 3891.45, 3075.26, 2317.64, 3219.08]. Con estos valores, crea un programa que calcule el promedio de gastos. Sugerencia: usa las funciones integradas sum() y len()."
   ]
  },
  {
   "cell_type": "code",
   "execution_count": null,
   "id": "9125fc2f",
   "metadata": {},
   "outputs": [],
   "source": [
    "# Datos de gastos\n",
    "gastos = [2172.54, 3701.35, 3518.09, 3456.61, 3249.38, 2840.82, 3891.45, 3075.26, 2317.64, 3219.08]\n",
    "\n",
    "# Calculamos el promedio encontrando el valor total de gastos con la función sum\n",
    "# y la cantidad total de compras realizadas con len\n",
    "total_gastos = sum(gastos)\n",
    "cantidad_compras = len(gastos)\n",
    "media_gastos = total_gastos / cantidad_compras\n",
    "# Resultado\n",
    "print(f'El promedio de gastos es {media_gastos} reales.')"
   ]
  },
  {
   "cell_type": "markdown",
   "id": "a5fdcc4e",
   "metadata": {},
   "source": [
    "2. Con los mismos datos de la pregunta anterior, determina cuántas compras se realizaron por encima de 3000 reales y calcula el porcentaje con respecto al total de compras."
   ]
  },
  {
   "cell_type": "code",
   "execution_count": null,
   "id": "35fde832",
   "metadata": {},
   "outputs": [],
   "source": [
    "# Datos de gastos\n",
    "gastos = [2172.54, 3701.35, 3518.09, 3456.61, 3249.38, 2840.82, 3891.45, 3075.26, 2317.64, 3219.08]\n",
    "\n",
    "# Variable que contará cuántas compras se realizaron por encima de 3000\n",
    "contador_acima_3000 = 0\n",
    "# Usamos un bucle para recorrer la lista de gastos\n",
    "for gasto in gastos:\n",
    "  # Verificamos si el elemento está por encima de 3000\n",
    "  if gasto > 3000:\n",
    "    # Sumamos uno al contador si hay algún valor por encima de 3000\n",
    "    contador_acima_3000 += 1\n",
    "\n",
    "# Con el conteo podemos calcular el porcentaje de valores por encima de 3000 entre todas las compras\n",
    "porcentaje_acima_3000 = 100 * contador_acima_3000 / cantidad_compras\n",
    "\n",
    "# Resultado\n",
    "print(f'{contador_acima_3000} compras estuvieron por encima de R$3000,00.')\n",
    "print(f'{porcentaje_acima_3000}% de los gastos estuvieron por encima de R$3000,00.')"
   ]
  },
  {
   "cell_type": "markdown",
   "id": "d8db434e",
   "metadata": {},
   "source": [
    "3. Crea un código que recoja en una lista 5 números enteros aleatorios e imprima la lista. Ejemplo: [1, 4, 7, 2, 4]."
   ]
  },
  {
   "cell_type": "code",
   "execution_count": null,
   "id": "8d25b16c",
   "metadata": {},
   "outputs": [],
   "source": [
    "# Lista que almacenará los 5 números enteros\n",
    "lista_numeros = []\n",
    "\n",
    "# Creamos un bucle que iterará 5 veces para recibir los 5 números\n",
    "for i in range(0, 5):\n",
    "  # Recopilamos el valor e lo insertamos en la lista 5 veces\n",
    "  numero = int(input('Ingresa un número entero: '))\n",
    "  lista_numeros.append(numero)\n",
    "#Resultado\n",
    "print(f'Lista de números ingresados: {lista_numeros}')"
   ]
  },
  {
   "cell_type": "markdown",
   "id": "396920ae",
   "metadata": {},
   "source": [
    "4. Recoge nuevamente 5 números enteros e imprime la lista en orden inverso al enviado."
   ]
  },
  {
   "cell_type": "code",
   "execution_count": null,
   "id": "fdd02493",
   "metadata": {},
   "outputs": [],
   "source": [
    "# Lista que almacenará los 5 números enteros\n",
    "lista_numeros = []\n",
    "\n",
    "# Creamos un bucle que iterará 5 veces para recibir los 5 números\n",
    "for i in range(0, 5):\n",
    "  # Recopilamos el valor e lo insertamos en la lista 5 veces\n",
    "  numero = int(input('Ingresa un número entero: '))\n",
    "  lista_numeros.append(numero)\n",
    "# Usamos la técnica de partición para imprimir el resultado\n",
    "print(f'Lista de números invertida: {lista_numeros[::-1]}')"
   ]
  },
  {
   "cell_type": "markdown",
   "id": "a42ed6b8",
   "metadata": {},
   "source": [
    "5. Crea un programa que, al ingresar un número cualquiera, genere una lista que contenga todos los números primos entre 1 y el número ingresado."
   ]
  },
  {
   "cell_type": "code",
   "execution_count": null,
   "id": "c5f06dbe",
   "metadata": {},
   "outputs": [],
   "source": [
    "# Recopilamos el número\n",
    "numero = int(input('Ingresa un número entero: '))\n",
    "# Lista para almacenar los números primos\n",
    "lista_primos = []\n",
    "# Bucle que recorre todos los números por debajo del número ingresado\n",
    "for num in range(2, numero):\n",
    "  # Primo es una bandera que nos permite saber si el valor analizado es primo o no.\n",
    "  primo = True\n",
    "  # Probamos si todos los números por debajo del especificado en el primer bucle pueden dar una división exacta.\n",
    "  for prueba_divisibles in range(2, num):\n",
    "    if num % prueba_divisibles == 0:\n",
    "      # Si es divisible por algún número, entendemos que el número no es primo y terminamos el bucle interno con break.\n",
    "      primo = False\n",
    "      break\n",
    "  # La condición se convierte en el resultado booleano de primo: False. Ignoramos la condición True y ejecutamos el bloque del if.\n",
    "  if primo:\n",
    "    lista_primos.append(num)\n",
    "# Resultado\n",
    "print(f'Lista de números primos: {lista_primos}')"
   ]
  },
  {
   "cell_type": "markdown",
   "id": "d3b2a969",
   "metadata": {},
   "source": [
    "6.  Escribe un programa que pida una fecha, especificando el día, mes y año, y determine si es válida para su análisis."
   ]
  },
  {
   "cell_type": "code",
   "execution_count": null,
   "id": "63eeb335",
   "metadata": {},
   "outputs": [],
   "source": [
    "# Recopilamos la fecha\n",
    "dia = int(input('Ingrese el día: '))\n",
    "mes = int(input('Ingrese el mes: '))\n",
    "año = int(input('Ingrese el año: '))\n",
    "\n",
    "# Análisis de febrero\n",
    "if mes == 2:\n",
    "  # Verificamos si es o no un año bisiesto\n",
    "  if año % 4 == 0 and (año % 400 == 0 or año % 100 != 0):\n",
    "    dias_febrero = 29\n",
    "  else:\n",
    "    dias_febrero = 28\n",
    "  # Verificamos si el día ingresado coincide con el máximo de días de febrero\n",
    "  if dia >= 1 and dia <= dias_febrero:\n",
    "    print('Fecha válida')\n",
    "  else:\n",
    "    print('Fecha inválida')\n",
    "# Verificamos meses que terminan en 31 días\n",
    "elif mes in [1, 3, 5, 7, 8, 10, 12]:\n",
    "  if dia >= 1 and dia <= 31:\n",
    "    print('Fecha válida')\n",
    "  else:\n",
    "    print('Fecha inválida')\n",
    "# Verificamos meses que terminan en 30 días\n",
    "elif mes in [4, 6, 9, 11]:\n",
    "  if dia >= 1 and dia <= 30:\n",
    "    print('Fecha válida')\n",
    "  else:\n",
    "    print('Fecha inválida')\n",
    "# Si el mes no está entre 1 y 12\n",
    "else:\n",
    "  print('Fecha inválida')"
   ]
  },
  {
   "cell_type": "markdown",
   "id": "f08029e7",
   "metadata": {},
   "source": [
    "7. Para un estudio sobre la multiplicación de bacterias en una colonia, se recopiló el número de bacterias multiplicadas por día y se puede observar a continuación: [1.2, 2.1, 3.3, 5.0, 7.8, 11.3, 16.6, 25.1, 37.8, 56.9]. Con estos valores, crea un código que genere una lista que contenga el porcentaje de crecimiento de bacterias por día, comparando el número de bacterias en cada día con el número de bacterias del día anterior. Sugerencia: para calcular el porcentaje de crecimiento, utiliza la siguiente ecuación: 100 * (muestra_actual - muestra_anterior) / muestra_anterior."
   ]
  },
  {
   "cell_type": "code",
   "execution_count": null,
   "id": "ffa4acc1",
   "metadata": {},
   "outputs": [],
   "source": [
    "# Lista de crecimiento de bacterias\n",
    "bacterias_colonia = [1.2, 2.1, 3.3, 5.0, 7.8, 11.3, 16.6, 25.1, 37.8, 56.9]\n",
    "# Lista que almacenará las tasas de crecimiento\n",
    "porcentaje_crecimiento = []\n",
    "# Recorremos los índices de 1 a 9 para comparar los valores actuales con los anteriores\n",
    "for i in range(1, len(bacterias_colonia)):\n",
    "  # Realizamos el cálculo: 100 * (muestra_actual - muestra_anterior) / (muestra_anterior)\n",
    "  porcentaje = 100 * (bacterias_colonia[i] - bacterias_colonia[i-1]) / (bacterias_colonia[i-1])\n",
    "  # Agregamos el resultado a la lista porcentaje_crecimiento\n",
    "  porcentaje_crecimiento.append(porcentaje)\n",
    "# Resultado\n",
    "print(f'Porcentajes de crecimiento:\\n{porcentaje_crecimiento}')"
   ]
  },
  {
   "cell_type": "markdown",
   "id": "939152b0",
   "metadata": {},
   "source": [
    "8. Para una selección de productos alimenticios, debemos separar el conjunto de IDs proporcionados por números enteros, sabiendo que los productos con ID par son dulces y los que tienen ID impar son amargos. Crea un código que recoja 10 IDs. Luego, calcula y muestra la cantidad de productos dulces y amargos."
   ]
  },
  {
   "cell_type": "code",
   "execution_count": null,
   "id": "a27c3da3",
   "metadata": {},
   "outputs": [],
   "source": [
    "# Lista que contendrá los valores de IDs\n",
    "ids = []\n",
    "# Variables contadoras de dulces y amargos\n",
    "dulce = 0\n",
    "amargo = 0\n",
    "\n",
    "# Creamos un bucle que iterará 10 veces para recopilar los 10 IDs\n",
    "for i in range(0,10):\n",
    "  # Recopilamos el ID y lo agregamos a la lista\n",
    "  ids.append(int(input(f'Ingrese el ID {i+1}°: '))\n",
    "\n",
    "# Leemos todos los elementos de la lista de IDs y los asignamos a id\n",
    "for id in ids:\n",
    "  # Verificamos si los elementos son pares o impares para llevar el conteo\n",
    "  if id % 2 == 0:\n",
    "    dulce += 1\n",
    "  else:\n",
    "    amargo += 1\n",
    "\n",
    "# Resultado\n",
    "print(f'Cantidad de productos dulces: {dulce}')\n",
    "print(f'Cantidad de productos amargos: {amargo}')"
   ]
  },
  {
   "cell_type": "markdown",
   "id": "86384f59",
   "metadata": {},
   "source": [
    "9.  Desarrolla un programa que informe la puntuación de un estudiante de acuerdo con sus respuestas. Debe pedir la respuesta del estudiante para cada pregunta y verificar si la respuesta coincide con el resultado. Cada pregunta vale un punto y hay opciones A, B, C o D."
   ]
  },
  {
   "cell_type": "code",
   "execution_count": null,
   "id": "0ee03620",
   "metadata": {},
   "outputs": [],
   "source": [
    "# Inicializamos los datos\n",
    "respuestas = []  # Lista para almacenar las respuestas\n",
    "# Lista de respuestas correctas\n",
    "gabarito = ['D', 'A', 'C', 'B', 'A', 'D', 'C', 'C', 'A', 'B']\n",
    "nota = 0  # Acumulará la nota total\n",
    "\n",
    "# Recopilamos las respuestas del estudiante\n",
    "for i in range(0, 10):\n",
    "  respuestas.append(input(f'Introduzca la respuesta a la pregunta {i + 1}: ').upper())\n",
    "\n",
    "# Verificamos si las respuestas coinciden y las sumamos a la nota\n",
    "for i in range(0, 10):\n",
    "  if respuestas[i] == gabarito[i]:\n",
    "    nota += 1\n",
    "\n",
    "# Mostrando la nota final\n",
    "print(f'Nota final: {nota}')"
   ]
  },
  {
   "cell_type": "markdown",
   "id": "ce0e88ab",
   "metadata": {},
   "source": [
    "10. Un instituto de meteorología desea realizar un estudio de la temperatura media de cada mes del año. Para ello, debes crear un código que recoja y almacene esas temperaturas medias en una lista. Luego, calcula el promedio anual de las temperaturas y muestra todas las temperaturas por encima del promedio anual y en qué mes ocurrieron, mostrando los meses por su nombre (Enero, Febrero, etc.)."
   ]
  },
  {
   "cell_type": "code",
   "execution_count": null,
   "id": "9883c044",
   "metadata": {},
   "outputs": [],
   "source": [
    "# Recopilamos la lista de temperaturas mensuales\n",
    "temperaturas_mensuales = []\n",
    "for i in range(0, 12):\n",
    "  temperaturas_mensuales.append(float(input(f'Ingrese la temperatura promedio del mes {i+1}: '))\n",
    "# Creamos una lista auxiliar para los nombres de los meses\n",
    "meses = ['Enero', 'Febrero', 'Marzo', 'Abril', 'Mayo', 'Junio', 'Julio', 'Agosto', 'Septiembre', 'Octubre', 'Noviembre', 'Diciembre']\n",
    "# Calculamos el promedio\n",
    "media_anual = sum(temperaturas_mensuales) / len(temperaturas_mensuales)\n",
    "\n",
    "# Resultado\n",
    "print('Temperaturas por encima del promedio en: ')\n",
    "for i in range(0, 12):\n",
    "  # Verificamos todas las temperaturas en comparación con la media anual\n",
    "  if temperaturas_mensuales[i] > media_anual:\n",
    "    # Dado que los índices de los meses corresponden a las temperaturas,\n",
    "    # podemos imprimirlos con el mismo índice\n",
    "    print(meses[i])"
   ]
  },
  {
   "cell_type": "markdown",
   "id": "d21dcf76",
   "metadata": {},
   "source": [
    "11. Una empresa de comercio electrónico está interesada en analizar las ventas de sus productos. Los datos de ventas se han almacenado en un diccionario:"
   ]
  },
  {
   "cell_type": "markdown",
   "id": "6f85bcbd",
   "metadata": {},
   "source": [
    "{'Producto A': 300, 'Producto B': 80, 'Producto C': 60, 'Producto D': 200, 'Producto E': 250, 'Producto F': 30}"
   ]
  },
  {
   "cell_type": "markdown",
   "id": "6a07acb2",
   "metadata": {},
   "source": [
    "Escribe un código que calcule el total de ventas y el producto más vendido."
   ]
  },
  {
   "cell_type": "code",
   "execution_count": null,
   "id": "d0e4f85e",
   "metadata": {},
   "outputs": [],
   "source": [
    "# Diccionario de ventas\n",
    "datos_ventas = {'Producto A': 300, 'Producto B': 80, 'Producto C': 60, 'Producto D': 200, 'Producto E': 250, 'Producto F': 30}\n",
    "\n",
    "# Inicializamos las variables\n",
    "total_ventas = 0  # Sumará todas las ventas\n",
    "producto_mas_vendido = ''  # Almacenará el nombre del producto más vendido\n",
    "unidades_producto_mas_vendido = 0  # Almacenará la cantidad más alta de ventas\n",
    "\n",
    "# Recorremos las claves y elementos del diccionario\n",
    "for producto in datos_ventas.keys():\n",
    "    # Sumamos el total de ventas\n",
    "    total_ventas += datos_ventas[producto]\n",
    "    # Verificamos si el valor de ventas actual (datos_ventas[producto]) es mayor que el valor almacenado en unidades_producto_mas_vendido\n",
    "    # Cada vez que datos_ventas[producto] supere el valor en unidades_producto_mas_vendido,\n",
    "    # la variable unidades_producto_mas_vendido será igual a datos_ventas[producto], asignando un nuevo valor\n",
    "    # De manera similar, producto_mas_vendido también se actualiza con el producto actual\n",
    "    if datos_ventas[producto] > unidades_producto_mas_vendido:\n",
    "        unidades_producto_mas_vendido = datos_ventas[producto]\n",
    "        producto_mas_vendido = producto\n",
    "# Resultados\n",
    "print(f'Total de ventas es {total_ventas}')\n",
    "print(f'{producto_mas_vendido} es el más vendido')"
   ]
  },
  {
   "cell_type": "markdown",
   "id": "ced21bf5",
   "metadata": {},
   "source": [
    "12. Se realizó una encuesta de mercado para decidir cuál diseño de marca infantil es más atractivo para los niños. Los votos de la encuesta se pueden ver a continuación:\n",
    "\n",
    "Tabla de votos de la marca\n",
    "Diseño 1 - 1334 votos\n",
    "Diseño 2 - 982 votos\n",
    "Diseño 3 - 1751 votos\n",
    "Diseño 4 - 210 votos\n",
    "Diseño 5 - 1811 votos \n",
    "\n",
    "Adapta los datos proporcionados a una estructura de diccionario. A partir de ello, informa el diseño ganador y el porcentaje de votos recibidos."
   ]
  },
  {
   "cell_type": "code",
   "execution_count": null,
   "id": "f0e4f490",
   "metadata": {},
   "outputs": [],
   "source": [
    "# Diccionario de votos por diseño\n",
    "votos = {'Diseño 1': 1334, 'Diseño 2': 982, 'Diseño 3': 1751, 'Diseño 4': 210, 'Diseño 5': 1811}\n",
    "\n",
    "# Inicializamos las variables\n",
    "total_votos = 0  # Sumará todos los votos\n",
    "ganador = ''  # Almacenará el nombre del diseño ganador\n",
    "voto_ganador = 0  # Almacenará la cantidad ganadora de votos\n",
    "\n",
    "# Recorremos las claves y elementos del diccionario\n",
    "for diseño, voto_diseño in votos.items():\n",
    "    # Sumamos el total de votos\n",
    "    total_votos += voto_diseño\n",
    "    # Verificamos si el voto del diseño actual (voto_diseño) es mayor que el valor almacenado en voto_ganador\n",
    "    # Cada vez que voto_diseño supere el valor en voto_ganador,\n",
    "    # la variable voto_ganador será igual a voto_diseño, asignando un nuevo valor\n",
    "    # De manera similar, el ganador también se actualiza con el diseño actual\n",
    "    if voto_diseño > voto_ganador:\n",
    "        voto_ganador = voto_diseño\n",
    "        ganador = diseño\n",
    "# Calculamos el porcentaje del diseño ganador\n",
    "porcentaje = 100 * (voto_ganador) / (total_votos)\n",
    "\n",
    "# Resultado\n",
    "print(f'{ganador} es el ganador: ')\n",
    "print(f'Porcentaje de votos: {porcentaje}%')"
   ]
  },
  {
   "cell_type": "markdown",
   "id": "6f94de44",
   "metadata": {},
   "source": [
    "13. Los empleados de un departamento de tu empresa recibirán una bonificación del 10% de su salario debido a un excelente rendimiento del equipo. El departamento de finanzas ha solicitado tu ayuda para verificar las consecuencias financieras de esta bonificación en los recursos. Se te ha enviado una lista con los salarios que recibirán la bonificación: [1172, 1644, 2617, 5130, 5532, 6341, 6650, 7238, 7685, 7782, 7903]. La bonificación de cada empleado no puede ser inferior a 200. En el código, convierte cada uno de los salarios en claves de un diccionario y la bonificación de cada salario en el valor correspondiente. Luego, informa el gasto total en bonificaciones, cuántos empleados recibieron la bonificación mínima y cuál fue el valor más alto de la bonificación proporcionada."
   ]
  },
  {
   "cell_type": "code",
   "execution_count": null,
   "id": "93a157f2",
   "metadata": {},
   "outputs": [],
   "source": [
    "# Lista de salarios\n",
    "salarios = [1172, 1644, 2617, 5130, 5532, 6341, 6650, 7238, 7685, 7782, 7903]\n",
    "# Inicializamos las variables\n",
    "diccionario_abonos = {}  # Diccionario de abonos\n",
    "total_abono = 0  # Sumará todos los gastos en abonos\n",
    "abonos_minimo = 0  # Almacenará la cantidad de abonos mínimos\n",
    "mayor_abono = 0  # Almacenará el mayor valor de abono\n",
    "\n",
    "# Recorremos toda la lista de salarios\n",
    "for salario in salarios:\n",
    "    # Calculamos el valor teórico del abono\n",
    "    abono = salario * 0.1\n",
    "    # Si el abono es inferior a 200,\n",
    "    # ajustamos el valor del abono al mínimo (200)\n",
    "    if abono < 200:\n",
    "        abono = 200\n",
    "    # Agregamos un nuevo dato en el diccionario con la clave abono\n",
    "    diccionario_abonos[salario] = abono\n",
    "\n",
    "# Recorremos todos los valores del diccionario de abonos\n",
    "for abono in diccionario_abonos.values():\n",
    "    # Contamos los salarios mínimos\n",
    "    if abono == 200:\n",
    "        abonos_minimo += 1\n",
    "    # Verificamos si el abono leído es mayor que el valor almacenado en mayor_abono\n",
    "    # Cada vez que el abono supere el valor de mayor_abono,\n",
    "    # la variable mayor_abono será igual al abono, asignando un nuevo valor\n",
    "    if abono > mayor_abono:\n",
    "        mayor_abono = abono\n",
    "    # Sumamos los abonos\n",
    "    total_abono += abono\n",
    "# Resultados\n",
    "print(f'Abonos: {diccionario_abonos}')\n",
    "print(f'Total de gastos en abonos: {total_abono}')\n",
    "print(f'Número de empleados que recibieron el abono mínimo: {abonos_minimo}')\n",
    "print(f'Mayor valor de abono: {mayor_abono}')"
   ]
  },
  {
   "cell_type": "markdown",
   "id": "c5926e4d",
   "metadata": {},
   "source": [
    "14. Un equipo de científicos de datos está estudiando la diversidad biológica en un bosque. El equipo recopiló información sobre el número de especies de plantas y animales en cada área del bosque y almacenó estos datos en un diccionario. En él, la clave describe el área de los datos y los valores en las listas corresponden a las especies de plantas y animales en esas áreas, respectivamente."
   ]
  },
  {
   "cell_type": "markdown",
   "id": "3bc27100",
   "metadata": {},
   "source": [
    "{'Área Norte': [2819, 7236], 'Área Leste': [1440, 9492], 'Área Sul': [5969, 7496], 'Área Oeste': [14446, 49688], 'Área Centro': [22558, 45148]}"
   ]
  },
  {
   "cell_type": "markdown",
   "id": "1d72ad51",
   "metadata": {},
   "source": [
    "Escribe un código para calcular el promedio de especies por área e identificar el área con la mayor diversidad biológica. Sugerencia: utiliza las funciones incorporadas sum() y len()."
   ]
  },
  {
   "cell_type": "code",
   "execution_count": null,
   "id": "6308c23e",
   "metadata": {},
   "outputs": [],
   "source": [
    "# Especificamos los datos para un diccionario\n",
    "datos = {'Área Norte': [2819, 7236],\n",
    "         'Área Este': [1440, 9492],\n",
    "         'Área Sur': [5969, 7496],\n",
    "         'Área Oeste': [14446, 49688],\n",
    "         'Área Centro': [22558, 45148]}\n",
    "# Inicializamos las variables\n",
    "suma_media = 0  # Sumará todos los promedios\n",
    "mayor_diversidad = ''  # Almacenará el área con la mayor diversidad\n",
    "mayor_suma = 0  # Almacenará la mayor suma de especies\n",
    "# Recorremos las claves y elementos del diccionario\n",
    "for área, especies in datos.items():\n",
    "    # Sumamos el número de especies en cada área utilizando la función sum\n",
    "    suma_especies = sum(especies)\n",
    "    # Calculamos el promedio dividiendo la suma de las especies entre la cantidad de especies\n",
    "    media = suma_especies / len(especies)\n",
    "    # Imprimimos\n",
    "    print(f'El {área} tiene un promedio de {media} especies')\n",
    "    # Verificamos si la suma de especies es mayor que el valor almacenado de mayor_suma\n",
    "    # Cada vez que suma_especies supere el valor de mayor_suma,\n",
    "    # la variable mayor_suma será igual a suma_especies, asignando un nuevo valor\n",
    "    # De manera similar, mayor_diversidad también se actualiza\n",
    "    if suma_especies > mayor_suma:\n",
    "        mayor_suma = suma_especies\n",
    "        mayor_diversidad = área\n",
    "    # Sumamos los promedios\n",
    "    suma_media += media\n",
    "# La media total será la suma_media dividida por la cantidad de áreas\n",
    "media_total = suma_media / len(datos)\n",
    "print(f'Media general de especies: {media_total}')\n",
    "print(f'Área con la mayor diversidad biológica: {mayor_diversidad}')"
   ]
  },
  {
   "cell_type": "markdown",
   "id": "0502c263",
   "metadata": {},
   "source": [
    "15. El departamento de Recursos Humanos de tu empresa te pidió ayuda para analizar las edades de los colaboradores de 4 sectores de la empresa. Para ello, te proporcionaron los siguientes datos:"
   ]
  },
  {
   "cell_type": "markdown",
   "id": "08f8c13b",
   "metadata": {},
   "source": [
    "{'Setor A': [22, 26, 30, 30, 35, 38, 40, 56, 57, 65],\n",
    " 'Setor B': [22, 24, 26, 33, 41, 49, 50, 54, 60, 64],\n",
    " 'Setor C': [23, 26, 26, 29, 34, 35, 36, 41, 52, 56],\n",
    " 'Setor D': [19, 20, 25, 27, 34, 39, 42, 44, 50, 65]}"
   ]
  },
  {
   "cell_type": "markdown",
   "id": "c77f0e79",
   "metadata": {},
   "source": [
    "Dado que cada sector tiene 10 colaboradores, construye un código que calcule la media de edad de cada sector, la edad media general entre todos los sectores y cuántas personas están por encima de la edad media general."
   ]
  },
  {
   "cell_type": "code",
   "execution_count": null,
   "id": "3d78a71a",
   "metadata": {},
   "outputs": [],
   "source": [
    "# Especificamos los datos para un diccionario\n",
    "datos = {'Sector A': [22, 26, 30, 30, 35, 38, 40, 56, 57, 65],\n",
    "        'Sector B': [22, 24, 26, 33, 41, 49, 50, 54, 60, 64],\n",
    "        'Sector C': [23, 26, 26, 29, 34, 35, 36, 41, 52, 56],\n",
    "        'Sector D': [19, 20, 25, 27, 34, 39, 42, 44, 50, 65]}\n",
    "# Inicializamos la variable que sumará todas las edades\n",
    "total_edades = 0\n",
    "# Recorremos las claves y elementos del diccionario\n",
    "for sector, edades in datos.items():\n",
    "  # Calculamos el promedio dividiendo la suma de las edades entre la cantidad de empleados en cada sector\n",
    "  media_edad = sum(edades) / len(edades)\n",
    "  # Imprimimos\n",
    "  print(f'El {sector} tiene un promedio de {media_edad}')\n",
    "  # Sumamos los promedios\n",
    "  total_edades += sum(edades)\n",
    "# La media total será el total_edades dividido por la cantidad de personas totales (sectores * empleados por sector)\n",
    "media_total = total_edades / (len(edades) * len(datos))\n",
    "print(f'La media de edad general es {media_total}')\n",
    "\n",
    "# Inicializamos la variable que contará a todas las personas con edades por encima de la media\n",
    "arriba_media = 0\n",
    "# Recorremos nuevamente las claves y elementos del diccionario\n",
    "for sector, edades in datos.items():\n",
    "  # Leemos los elementos (edades) dentro de cada lista de edades en el diccionario\n",
    "  for edad in edades:\n",
    "    # Verificamos si el valor de la edad es superior a la media total\n",
    "    if edad > media_total:\n",
    "      # En caso de que el valor de la edad sea superior a la media, incrementamos en uno el contador\n",
    "      arriba_media += 1\n",
    "# Resultado\n",
    "print(f'{arriba_media} personas están por encima de la edad media general')"
   ]
  }
 ],
 "metadata": {
  "kernelspec": {
   "display_name": "base",
   "language": "python",
   "name": "python3"
  },
  "language_info": {
   "name": "python",
   "version": "3.12.4"
  }
 },
 "nbformat": 4,
 "nbformat_minor": 5
}
