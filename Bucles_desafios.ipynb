{
 "cells": [
  {
   "cell_type": "markdown",
   "id": "d0486310",
   "metadata": {},
   "source": [
    "## Problema 1\n",
    " Ana está desarrollando un programa que necesita procesar una lista de 5 nombres de clientes para generar informes mensuales. Para ello, necesita escribir un programa que recorra la lista de nombres y muestre cada cliente."
   ]
  },
  {
   "cell_type": "code",
   "execution_count": 3,
   "id": "db5240c6",
   "metadata": {},
   "outputs": [],
   "source": [
    "clientes = [\"Juan\", \"Maria\", \"Carlos\", \"Ana\", \"Beatriz\"]"
   ]
  },
  {
   "cell_type": "markdown",
   "id": "e86d5cbc",
   "metadata": {},
   "source": [
    "Ayuda a Ana a decidir entre usar un lazo for o while. Escribe el programa usando el lazo que creas más adecuado para esta tarea y explica por qué elegiste ese lazo"
   ]
  },
  {
   "cell_type": "code",
   "execution_count": 4,
   "id": "75266ec8",
   "metadata": {},
   "outputs": [
    {
     "name": "stdout",
     "output_type": "stream",
     "text": [
      "Juan\n",
      "Maria\n",
      "Carlos\n",
      "Ana\n",
      "Beatriz\n"
     ]
    }
   ],
   "source": [
    "for nombre in clientes:\n",
    "    print(nombre)"
   ]
  },
  {
   "cell_type": "markdown",
   "id": "cbec3c75",
   "metadata": {},
   "source": [
    "## Problema 2\n",
    " André está probando una nueva función en el backend de Buscante que procesa datos en un bucle. Durante las pruebas, se dio cuenta de que el sistema dejó de responder y sospecha que el problema está en un bucle infinito."
   ]
  },
  {
   "cell_type": "code",
   "execution_count": null,
   "id": "853cf7c6",
   "metadata": {},
   "outputs": [],
   "source": [
    "contador = 0\n",
    "\n",
    "while contador < 10:\n",
    "    print(\"Procesando datos...\")"
   ]
  },
  {
   "cell_type": "markdown",
   "id": "d4392ae7",
   "metadata": {},
   "source": [
    "* ¿Cuál es el problema del código de André y cómo resolverlo?"
   ]
  },
  {
   "cell_type": "markdown",
   "id": "08e8bec1",
   "metadata": {},
   "source": [
    "El problema es que la condición nunca se cumple. Como el contador nunca aumenta, siempre se imprime el 0 quedando en un bucle infinito.\n",
    " La solución es:"
   ]
  },
  {
   "cell_type": "code",
   "execution_count": 5,
   "id": "2235336a",
   "metadata": {},
   "outputs": [
    {
     "name": "stdout",
     "output_type": "stream",
     "text": [
      "Procesando datos...\n",
      "Procesando datos...\n",
      "Procesando datos...\n",
      "Procesando datos...\n",
      "Procesando datos...\n",
      "Procesando datos...\n",
      "Procesando datos...\n",
      "Procesando datos...\n",
      "Procesando datos...\n",
      "Procesando datos...\n"
     ]
    }
   ],
   "source": [
    "contador = 0\n",
    "\n",
    "while contador < 10:\n",
    "    print(\"Procesando datos...\")\n",
    "    contador += 1"
   ]
  },
  {
   "cell_type": "markdown",
   "id": "082464e0",
   "metadata": {},
   "source": [
    "## Problema 3\n",
    "Marcos está desarrollando un programa para mostrar un mensaje de bienvenida repetidamente en la consola, como parte de una campaña de marketing de su plataforma llamada Buscante. Quiere asegurarse de que el mensaje se muestre 5 veces.\n",
    "\n",
    "Ayuda a Marcos a escribir un programa que muestre el mensaje: \"¡Bienvenido a Buscante!\" el número exacto de veces que necesita."
   ]
  },
  {
   "cell_type": "code",
   "execution_count": 8,
   "id": "137b785c",
   "metadata": {},
   "outputs": [
    {
     "name": "stdout",
     "output_type": "stream",
     "text": [
      "¡Bienvenido a Buscante!\n",
      "¡Bienvenido a Buscante!\n",
      "¡Bienvenido a Buscante!\n",
      "¡Bienvenido a Buscante!\n",
      "¡Bienvenido a Buscante!\n"
     ]
    }
   ],
   "source": [
    "for n in range(5):\n",
    "    print(\"¡Bienvenido a Buscante!\")\n",
    "    n += 1"
   ]
  },
  {
   "cell_type": "markdown",
   "id": "7d0a31fd",
   "metadata": {},
   "source": [
    "## Problema 4\n",
    "Estás recibiendo una lista de valores que representan los productos de tu tienda virtual y te gustaría calcular la suma total de esos productos para entender el desempeño financiero semanal."
   ]
  },
  {
   "cell_type": "code",
   "execution_count": 17,
   "id": "919242d5",
   "metadata": {},
   "outputs": [],
   "source": [
    "valores = [10, 20, 30, 40, 50]"
   ]
  },
  {
   "cell_type": "markdown",
   "id": "c24898f9",
   "metadata": {},
   "source": [
    "Crea un programa para implementar la suma."
   ]
  },
  {
   "cell_type": "code",
   "execution_count": 30,
   "id": "8cfa5e5b",
   "metadata": {},
   "outputs": [
    {
     "name": "stdout",
     "output_type": "stream",
     "text": [
      "La suma total de ingresos es de:  150\n"
     ]
    }
   ],
   "source": [
    "valor = sum(valores)\n",
    "print(\"La suma total de ingresos es de: \",valor)"
   ]
  },
  {
   "cell_type": "code",
   "execution_count": 33,
   "id": "248b8c76",
   "metadata": {},
   "outputs": [
    {
     "name": "stdout",
     "output_type": "stream",
     "text": [
      "10\n",
      "30\n",
      "60\n",
      "100\n",
      "150\n",
      "La suma total de ingresos es de:  150\n"
     ]
    }
   ],
   "source": [
    "suma = 0\n",
    "for valor in valores:\n",
    "    suma = suma + valor\n",
    "    print(suma)\n",
    "print(\"La suma total de ingresos es de: \",suma)"
   ]
  },
  {
   "cell_type": "markdown",
   "id": "89064bbd",
   "metadata": {},
   "source": [
    "## Problema 5\n",
    "Ana está desarrollando su portafolio para exhibir los proyectos de Python que ha completado. Ella organizó una lista con el nombre de cada proyecto, pero se dio cuenta de que algunos elementos pueden estar ausentes, apareciendo como None:"
   ]
  },
  {
   "cell_type": "code",
   "execution_count": 48,
   "id": "6a082e58",
   "metadata": {},
   "outputs": [],
   "source": [
    "proyectos = [\"sitio web\", \"juego\", \"análisis de datos\", None, \"aplicativo móvil\"]"
   ]
  },
  {
   "cell_type": "markdown",
   "id": "e368ddc6",
   "metadata": {},
   "source": [
    "Crea un programa que ayude a Ana a recorrer la lista de proyectos y muestre los nombres de los proyectos válidos. Si encuentra un elemento None, el programa debe mostrar el mensaje: \"Proyecto ausente\"."
   ]
  },
  {
   "cell_type": "code",
   "execution_count": 49,
   "id": "54173d2d",
   "metadata": {},
   "outputs": [
    {
     "name": "stdout",
     "output_type": "stream",
     "text": [
      "sitio web\n",
      "juego\n",
      "análisis de datos\n",
      "Proyecto ausente\n",
      "aplicativo móvil\n"
     ]
    }
   ],
   "source": [
    "for proyecto in proyectos:\n",
    "    if proyecto == None:\n",
    "        print(\"Proyecto ausente\")\n",
    "    else:\n",
    "        print(proyecto)"
   ]
  },
  {
   "cell_type": "markdown",
   "id": "4e173e97",
   "metadata": {},
   "source": [
    "## Problema 6\n",
    "José está desarrollando una funcionalidad en el sistema de Buscante para interrumpir la búsqueda tan pronto como se encuentre un libro específico. La lista de libros ya registrados en el sistema es la siguiente:"
   ]
  },
  {
   "cell_type": "code",
   "execution_count": 51,
   "id": "3a0d78ed",
   "metadata": {},
   "outputs": [],
   "source": [
    "libros = [\"1984\", \"Cien años de soledad\", \"El Principito\", \"El Hobbit\", \"Orgullo y Prejuicio\"]"
   ]
  },
  {
   "cell_type": "markdown",
   "id": "950e082c",
   "metadata": {},
   "source": [
    "Ayuda a José a crear un programa que recorra la lista y muestre el mensaje \"Libro encontrado: <nombre del libro>\" tan pronto como se encuentre el libro \"El Hobbit\". Después de encontrar el libro, el programa debe detener inmediatamente la búsqueda, sin verificar los libros restantes."
   ]
  },
  {
   "cell_type": "code",
   "execution_count": 58,
   "id": "3cac23d7",
   "metadata": {},
   "outputs": [
    {
     "name": "stdout",
     "output_type": "stream",
     "text": [
      "Libro encontrado: El Hobbit\n"
     ]
    }
   ],
   "source": [
    "for libro in libros:\n",
    "    if libro == \"El Hobbit\":\n",
    "        print(\"Libro encontrado:\", libro)\n",
    "        break\n"
   ]
  },
  {
   "cell_type": "markdown",
   "id": "747ea3f4",
   "metadata": {},
   "source": [
    "## Problema 7\n",
    "Estás desarrollando un sistema de control de inventario para Buscante. Uno de los requisitos es verificar la cantidad de ejemplares de un libro en inventario y continuar vendiendo hasta que el inventario se agote. Siempre que se realiza una venta, el sistema debe informar al usuario y actualizar la cantidad disponible.\n",
    "\n",
    "Crea un programa que simule las ventas de un libro con el inventario inicial de 5 ejemplares. El programa debe mostrar el mensaje \"¡Venta realizada! Inventario restante: <cantidad>\" con cada venta y, al final, mostrar el mensaje \"Inventario agotado\".\n",
    "\n"
   ]
  },
  {
   "cell_type": "code",
   "execution_count": 68,
   "id": "00fa5dc0",
   "metadata": {},
   "outputs": [
    {
     "name": "stdout",
     "output_type": "stream",
     "text": [
      "El numero incial de libros en inventario es de: 5\n",
      "¡venta realizada!, Inventario restante: 4\n",
      "¡venta realizada!, Inventario restante: 3\n",
      "¡venta realizada!, Inventario restante: 2\n",
      "¡venta realizada!, Inventario restante: 1\n",
      "¡venta realizada!, Inventario agotado\n"
     ]
    }
   ],
   "source": [
    "NumeroLibros = 5;\n",
    "print(\"El numero incial de libros en inventario es de:\", NumeroLibros)\n",
    "\n",
    "while NumeroLibros != 1:\n",
    "    NumeroLibros -= 1\n",
    "    print(\"¡venta realizada!, Inventario restante:\", NumeroLibros)\n",
    "print(\"¡venta realizada!, Inventario agotado\")"
   ]
  },
  {
   "cell_type": "markdown",
   "id": "e8e7f37c",
   "metadata": {},
   "source": [
    "## Problema 8\n",
    " Aline está implementando una funcionalidad que muestra mensajes personalizados para los clientes durante una promoción especial de su nueva librería. El sistema debe mostrar un mensaje de cuenta regresiva personalizado para cada número de 10 a 1, y al final mostrar el mensaje: \"¡Aprovecha la promoción ahora!\".\n",
    "\n",
    "Crea un programa que utilice un bucle for para mostrar los siguientes mensajes:\n",
    "\n",
    "* Para números pares, muestra: \"Faltan solo <número> segundos - ¡No pierdas esta oportunidad!\".\n",
    "* Para números impares, muestra: \"La cuenta continúa: <número> segundos restantes.\".\n",
    "\n",
    "Al final de la cuenta, muestra el mensaje: \"¡Aprovecha la promoción ahora!\"."
   ]
  }
 ],
 "metadata": {
  "kernelspec": {
   "display_name": "base",
   "language": "python",
   "name": "python3"
  },
  "language_info": {
   "codemirror_mode": {
    "name": "ipython",
    "version": 3
   },
   "file_extension": ".py",
   "mimetype": "text/x-python",
   "name": "python",
   "nbconvert_exporter": "python",
   "pygments_lexer": "ipython3",
   "version": "3.12.4"
  }
 },
 "nbformat": 4,
 "nbformat_minor": 5
}
